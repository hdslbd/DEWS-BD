{
 "cells": [
  {
   "cell_type": "markdown",
   "metadata": {},
   "source": [
    "# Data Preprocessing Tools"
   ]
  },
  {
   "cell_type": "markdown",
   "metadata": {},
   "source": [
    "## Importing the libraries"
   ]
  },
  {
   "cell_type": "code",
   "execution_count": 25,
   "metadata": {},
   "outputs": [
    {
     "name": "stdout",
     "output_type": "stream",
     "text": [
      "Requirement already satisfied: numpy in c:\\users\\user\\anaconda3\\lib\\site-packages (1.26.4)\n",
      "Requirement already satisfied: pandas in c:\\users\\user\\anaconda3\\lib\\site-packages (2.2.1)\n",
      "Requirement already satisfied: scikit-learn in c:\\users\\user\\anaconda3\\lib\\site-packages (1.2.2)\n",
      "Requirement already satisfied: torch in c:\\users\\user\\anaconda3\\lib\\site-packages (2.2.2)\n",
      "Requirement already satisfied: xgboost in c:\\users\\user\\anaconda3\\lib\\site-packages (2.0.3)\n",
      "Requirement already satisfied: python-dateutil>=2.8.2 in c:\\users\\user\\anaconda3\\lib\\site-packages (from pandas) (2.8.2)\n",
      "Requirement already satisfied: pytz>=2020.1 in c:\\users\\user\\anaconda3\\lib\\site-packages (from pandas) (2023.3.post1)\n",
      "Requirement already satisfied: tzdata>=2022.7 in c:\\users\\user\\anaconda3\\lib\\site-packages (from pandas) (2023.3)\n",
      "Requirement already satisfied: scipy>=1.3.2 in c:\\users\\user\\anaconda3\\lib\\site-packages (from scikit-learn) (1.11.4)\n",
      "Requirement already satisfied: joblib>=1.1.1 in c:\\users\\user\\anaconda3\\lib\\site-packages (from scikit-learn) (1.2.0)\n",
      "Requirement already satisfied: threadpoolctl>=2.0.0 in c:\\users\\user\\anaconda3\\lib\\site-packages (from scikit-learn) (2.2.0)\n",
      "Requirement already satisfied: filelock in c:\\users\\user\\anaconda3\\lib\\site-packages (from torch) (3.13.1)\n",
      "Requirement already satisfied: typing-extensions>=4.8.0 in c:\\users\\user\\anaconda3\\lib\\site-packages (from torch) (4.9.0)\n",
      "Requirement already satisfied: sympy in c:\\users\\user\\anaconda3\\lib\\site-packages (from torch) (1.12)\n",
      "Requirement already satisfied: networkx in c:\\users\\user\\anaconda3\\lib\\site-packages (from torch) (3.1)\n",
      "Requirement already satisfied: jinja2 in c:\\users\\user\\anaconda3\\lib\\site-packages (from torch) (3.1.3)\n",
      "Requirement already satisfied: fsspec in c:\\users\\user\\anaconda3\\lib\\site-packages (from torch) (2023.10.0)\n",
      "Requirement already satisfied: six>=1.5 in c:\\users\\user\\anaconda3\\lib\\site-packages (from python-dateutil>=2.8.2->pandas) (1.16.0)\n",
      "Requirement already satisfied: MarkupSafe>=2.0 in c:\\users\\user\\anaconda3\\lib\\site-packages (from jinja2->torch) (2.1.3)\n",
      "Requirement already satisfied: mpmath>=0.19 in c:\\users\\user\\anaconda3\\lib\\site-packages (from sympy->torch) (1.3.0)\n",
      "Note: you may need to restart the kernel to use updated packages.\n"
     ]
    }
   ],
   "source": [
    "%pip install numpy pandas scikit-learn torch xgboost"
   ]
  },
  {
   "cell_type": "code",
   "execution_count": 26,
   "metadata": {},
   "outputs": [],
   "source": [
    "import pandas as pd\n",
    "import numpy as np"
   ]
  },
  {
   "cell_type": "markdown",
   "metadata": {},
   "source": [
    "## Importing the dataset"
   ]
  },
  {
   "cell_type": "code",
   "execution_count": 27,
   "metadata": {},
   "outputs": [],
   "source": [
    "df = pd.read_csv('Data/Preprocessed Data/preprocessed_data.csv')"
   ]
  },
  {
   "cell_type": "code",
   "execution_count": 28,
   "metadata": {},
   "outputs": [
    {
     "data": {
      "text/html": [
       "<div>\n",
       "<style scoped>\n",
       "    .dataframe tbody tr th:only-of-type {\n",
       "        vertical-align: middle;\n",
       "    }\n",
       "\n",
       "    .dataframe tbody tr th {\n",
       "        vertical-align: top;\n",
       "    }\n",
       "\n",
       "    .dataframe thead th {\n",
       "        text-align: right;\n",
       "    }\n",
       "</style>\n",
       "<table border=\"1\" class=\"dataframe\">\n",
       "  <thead>\n",
       "    <tr style=\"text-align: right;\">\n",
       "      <th></th>\n",
       "      <th>Year</th>\n",
       "      <th>Month</th>\n",
       "      <th>station_name</th>\n",
       "      <th>humidity</th>\n",
       "      <th>TMPMAX</th>\n",
       "      <th>TMPMIN</th>\n",
       "      <th>precipitation</th>\n",
       "      <th>wind_speed_8_30am</th>\n",
       "      <th>wind_speed_17_30pm</th>\n",
       "      <th>patients</th>\n",
       "      <th>Date</th>\n",
       "    </tr>\n",
       "  </thead>\n",
       "  <tbody>\n",
       "    <tr>\n",
       "      <th>0</th>\n",
       "      <td>2007</td>\n",
       "      <td>1</td>\n",
       "      <td>Gampaha</td>\n",
       "      <td>85.838710</td>\n",
       "      <td>32.0</td>\n",
       "      <td>22.1</td>\n",
       "      <td>39.399999</td>\n",
       "      <td>12.5</td>\n",
       "      <td>14.50</td>\n",
       "      <td>64</td>\n",
       "      <td>2007-01-01</td>\n",
       "    </tr>\n",
       "    <tr>\n",
       "      <th>1</th>\n",
       "      <td>2007</td>\n",
       "      <td>1</td>\n",
       "      <td>Batticaloa</td>\n",
       "      <td>82.064516</td>\n",
       "      <td>28.4</td>\n",
       "      <td>24.0</td>\n",
       "      <td>170.100004</td>\n",
       "      <td>8.6</td>\n",
       "      <td>10.10</td>\n",
       "      <td>0</td>\n",
       "      <td>2007-01-01</td>\n",
       "    </tr>\n",
       "    <tr>\n",
       "      <th>2</th>\n",
       "      <td>2007</td>\n",
       "      <td>1</td>\n",
       "      <td>Colombo</td>\n",
       "      <td>82.258065</td>\n",
       "      <td>31.8</td>\n",
       "      <td>22.9</td>\n",
       "      <td>91.100001</td>\n",
       "      <td>5.7</td>\n",
       "      <td>6.00</td>\n",
       "      <td>244</td>\n",
       "      <td>2007-01-01</td>\n",
       "    </tr>\n",
       "    <tr>\n",
       "      <th>3</th>\n",
       "      <td>2007</td>\n",
       "      <td>1</td>\n",
       "      <td>Galle</td>\n",
       "      <td>89.612903</td>\n",
       "      <td>29.6</td>\n",
       "      <td>23.3</td>\n",
       "      <td>78.200000</td>\n",
       "      <td>2.2</td>\n",
       "      <td>6.90</td>\n",
       "      <td>22</td>\n",
       "      <td>2007-01-01</td>\n",
       "    </tr>\n",
       "    <tr>\n",
       "      <th>4</th>\n",
       "      <td>2007</td>\n",
       "      <td>1</td>\n",
       "      <td>Jaffna</td>\n",
       "      <td>81.886667</td>\n",
       "      <td>29.7</td>\n",
       "      <td>22.2</td>\n",
       "      <td>12.500000</td>\n",
       "      <td>5.3</td>\n",
       "      <td>7.12</td>\n",
       "      <td>0</td>\n",
       "      <td>2007-01-01</td>\n",
       "    </tr>\n",
       "  </tbody>\n",
       "</table>\n",
       "</div>"
      ],
      "text/plain": [
       "   Year  Month station_name   humidity  TMPMAX  TMPMIN  precipitation  \\\n",
       "0  2007      1      Gampaha  85.838710    32.0    22.1      39.399999   \n",
       "1  2007      1   Batticaloa  82.064516    28.4    24.0     170.100004   \n",
       "2  2007      1      Colombo  82.258065    31.8    22.9      91.100001   \n",
       "3  2007      1        Galle  89.612903    29.6    23.3      78.200000   \n",
       "4  2007      1       Jaffna  81.886667    29.7    22.2      12.500000   \n",
       "\n",
       "   wind_speed_8_30am  wind_speed_17_30pm  patients        Date  \n",
       "0               12.5               14.50        64  2007-01-01  \n",
       "1                8.6               10.10         0  2007-01-01  \n",
       "2                5.7                6.00       244  2007-01-01  \n",
       "3                2.2                6.90        22  2007-01-01  \n",
       "4                5.3                7.12         0  2007-01-01  "
      ]
     },
     "execution_count": 28,
     "metadata": {},
     "output_type": "execute_result"
    }
   ],
   "source": [
    "df.head(5)"
   ]
  },
  {
   "cell_type": "code",
   "execution_count": 29,
   "metadata": {},
   "outputs": [
    {
     "data": {
      "text/plain": [
       "Year                    int64\n",
       "Month                   int64\n",
       "station_name           object\n",
       "humidity              float64\n",
       "TMPMAX                float64\n",
       "TMPMIN                float64\n",
       "precipitation         float64\n",
       "wind_speed_8_30am     float64\n",
       "wind_speed_17_30pm    float64\n",
       "patients                int64\n",
       "Date                   object\n",
       "dtype: object"
      ]
     },
     "execution_count": 29,
     "metadata": {},
     "output_type": "execute_result"
    }
   ],
   "source": [
    "df.dtypes"
   ]
  },
  {
   "cell_type": "markdown",
   "metadata": {},
   "source": [
    "### Reduce features"
   ]
  },
  {
   "cell_type": "code",
   "execution_count": 30,
   "metadata": {},
   "outputs": [],
   "source": [
    "preprocessed_df = df.copy()"
   ]
  },
  {
   "cell_type": "code",
   "execution_count": 31,
   "metadata": {},
   "outputs": [],
   "source": [
    "preprocessed_df['Avg_temperature'] = preprocessed_df[['TMPMAX', 'TMPMIN']].mean(axis=1)\n",
    "preprocessed_df['Avg_wind_speed'] = preprocessed_df[['wind_speed_8_30am', 'wind_speed_17_30pm']].mean(axis=1)"
   ]
  },
  {
   "cell_type": "markdown",
   "metadata": {},
   "source": [
    "## Model Training - XGBOOST"
   ]
  },
  {
   "cell_type": "markdown",
   "metadata": {},
   "source": [
    "### Colomco District"
   ]
  },
  {
   "cell_type": "code",
   "execution_count": 32,
   "metadata": {},
   "outputs": [
    {
     "data": {
      "text/html": [
       "<div>\n",
       "<style scoped>\n",
       "    .dataframe tbody tr th:only-of-type {\n",
       "        vertical-align: middle;\n",
       "    }\n",
       "\n",
       "    .dataframe tbody tr th {\n",
       "        vertical-align: top;\n",
       "    }\n",
       "\n",
       "    .dataframe thead th {\n",
       "        text-align: right;\n",
       "    }\n",
       "</style>\n",
       "<table border=\"1\" class=\"dataframe\">\n",
       "  <thead>\n",
       "    <tr style=\"text-align: right;\">\n",
       "      <th></th>\n",
       "      <th>Year</th>\n",
       "      <th>Month</th>\n",
       "      <th>station_name</th>\n",
       "      <th>humidity</th>\n",
       "      <th>TMPMAX</th>\n",
       "      <th>TMPMIN</th>\n",
       "      <th>precipitation</th>\n",
       "      <th>wind_speed_8_30am</th>\n",
       "      <th>wind_speed_17_30pm</th>\n",
       "      <th>patients</th>\n",
       "      <th>Date</th>\n",
       "      <th>Avg_temperature</th>\n",
       "      <th>Avg_wind_speed</th>\n",
       "    </tr>\n",
       "  </thead>\n",
       "  <tbody>\n",
       "    <tr>\n",
       "      <th>2</th>\n",
       "      <td>2007</td>\n",
       "      <td>1</td>\n",
       "      <td>Colombo</td>\n",
       "      <td>82.258065</td>\n",
       "      <td>31.8</td>\n",
       "      <td>22.9</td>\n",
       "      <td>91.100001</td>\n",
       "      <td>5.7</td>\n",
       "      <td>6.0</td>\n",
       "      <td>244</td>\n",
       "      <td>2007-01-01</td>\n",
       "      <td>27.35</td>\n",
       "      <td>5.85</td>\n",
       "    </tr>\n",
       "    <tr>\n",
       "      <th>13</th>\n",
       "      <td>2007</td>\n",
       "      <td>2</td>\n",
       "      <td>Colombo</td>\n",
       "      <td>84.142857</td>\n",
       "      <td>31.2</td>\n",
       "      <td>23.5</td>\n",
       "      <td>9.900000</td>\n",
       "      <td>3.4</td>\n",
       "      <td>6.3</td>\n",
       "      <td>175</td>\n",
       "      <td>2007-02-01</td>\n",
       "      <td>27.35</td>\n",
       "      <td>4.85</td>\n",
       "    </tr>\n",
       "    <tr>\n",
       "      <th>25</th>\n",
       "      <td>2007</td>\n",
       "      <td>3</td>\n",
       "      <td>Colombo</td>\n",
       "      <td>85.806452</td>\n",
       "      <td>31.8</td>\n",
       "      <td>24.8</td>\n",
       "      <td>60.500001</td>\n",
       "      <td>2.9</td>\n",
       "      <td>5.8</td>\n",
       "      <td>61</td>\n",
       "      <td>2007-03-01</td>\n",
       "      <td>28.30</td>\n",
       "      <td>4.35</td>\n",
       "    </tr>\n",
       "    <tr>\n",
       "      <th>34</th>\n",
       "      <td>2007</td>\n",
       "      <td>4</td>\n",
       "      <td>Colombo</td>\n",
       "      <td>91.433333</td>\n",
       "      <td>31.7</td>\n",
       "      <td>24.8</td>\n",
       "      <td>374.100007</td>\n",
       "      <td>1.9</td>\n",
       "      <td>5.0</td>\n",
       "      <td>35</td>\n",
       "      <td>2007-04-01</td>\n",
       "      <td>28.25</td>\n",
       "      <td>3.45</td>\n",
       "    </tr>\n",
       "    <tr>\n",
       "      <th>38</th>\n",
       "      <td>2007</td>\n",
       "      <td>5</td>\n",
       "      <td>Colombo</td>\n",
       "      <td>84.709677</td>\n",
       "      <td>31.4</td>\n",
       "      <td>26.4</td>\n",
       "      <td>432.400013</td>\n",
       "      <td>4.3</td>\n",
       "      <td>6.3</td>\n",
       "      <td>44</td>\n",
       "      <td>2007-05-01</td>\n",
       "      <td>28.90</td>\n",
       "      <td>5.30</td>\n",
       "    </tr>\n",
       "  </tbody>\n",
       "</table>\n",
       "</div>"
      ],
      "text/plain": [
       "    Year  Month station_name   humidity  TMPMAX  TMPMIN  precipitation  \\\n",
       "2   2007      1      Colombo  82.258065    31.8    22.9      91.100001   \n",
       "13  2007      2      Colombo  84.142857    31.2    23.5       9.900000   \n",
       "25  2007      3      Colombo  85.806452    31.8    24.8      60.500001   \n",
       "34  2007      4      Colombo  91.433333    31.7    24.8     374.100007   \n",
       "38  2007      5      Colombo  84.709677    31.4    26.4     432.400013   \n",
       "\n",
       "    wind_speed_8_30am  wind_speed_17_30pm  patients        Date  \\\n",
       "2                 5.7                 6.0       244  2007-01-01   \n",
       "13                3.4                 6.3       175  2007-02-01   \n",
       "25                2.9                 5.8        61  2007-03-01   \n",
       "34                1.9                 5.0        35  2007-04-01   \n",
       "38                4.3                 6.3        44  2007-05-01   \n",
       "\n",
       "    Avg_temperature  Avg_wind_speed  \n",
       "2             27.35            5.85  \n",
       "13            27.35            4.85  \n",
       "25            28.30            4.35  \n",
       "34            28.25            3.45  \n",
       "38            28.90            5.30  "
      ]
     },
     "execution_count": 32,
     "metadata": {},
     "output_type": "execute_result"
    }
   ],
   "source": [
    "colombo_df = preprocessed_df[preprocessed_df.station_name == 'Colombo']\n",
    "colombo_df.head()"
   ]
  },
  {
   "cell_type": "code",
   "execution_count": 33,
   "metadata": {},
   "outputs": [],
   "source": [
    "# Drop rows where Year is equal to 2017 using query\n",
    "colombo_df = colombo_df.query('Year != 2017 and Year != 2019 and Year != 2020 and Year != 2021')"
   ]
  },
  {
   "cell_type": "code",
   "execution_count": 34,
   "metadata": {},
   "outputs": [
    {
     "data": {
      "text/html": [
       "<div>\n",
       "<style scoped>\n",
       "    .dataframe tbody tr th:only-of-type {\n",
       "        vertical-align: middle;\n",
       "    }\n",
       "\n",
       "    .dataframe tbody tr th {\n",
       "        vertical-align: top;\n",
       "    }\n",
       "\n",
       "    .dataframe thead th {\n",
       "        text-align: right;\n",
       "    }\n",
       "</style>\n",
       "<table border=\"1\" class=\"dataframe\">\n",
       "  <thead>\n",
       "    <tr style=\"text-align: right;\">\n",
       "      <th></th>\n",
       "      <th>humidity</th>\n",
       "      <th>precipitation</th>\n",
       "      <th>patients</th>\n",
       "      <th>Avg_temperature</th>\n",
       "      <th>Avg_wind_speed</th>\n",
       "    </tr>\n",
       "  </thead>\n",
       "  <tbody>\n",
       "    <tr>\n",
       "      <th>2</th>\n",
       "      <td>82.258065</td>\n",
       "      <td>91.100001</td>\n",
       "      <td>244</td>\n",
       "      <td>27.35</td>\n",
       "      <td>5.85</td>\n",
       "    </tr>\n",
       "    <tr>\n",
       "      <th>13</th>\n",
       "      <td>84.142857</td>\n",
       "      <td>9.900000</td>\n",
       "      <td>175</td>\n",
       "      <td>27.35</td>\n",
       "      <td>4.85</td>\n",
       "    </tr>\n",
       "    <tr>\n",
       "      <th>25</th>\n",
       "      <td>85.806452</td>\n",
       "      <td>60.500001</td>\n",
       "      <td>61</td>\n",
       "      <td>28.30</td>\n",
       "      <td>4.35</td>\n",
       "    </tr>\n",
       "    <tr>\n",
       "      <th>34</th>\n",
       "      <td>91.433333</td>\n",
       "      <td>374.100007</td>\n",
       "      <td>35</td>\n",
       "      <td>28.25</td>\n",
       "      <td>3.45</td>\n",
       "    </tr>\n",
       "    <tr>\n",
       "      <th>38</th>\n",
       "      <td>84.709677</td>\n",
       "      <td>432.400013</td>\n",
       "      <td>44</td>\n",
       "      <td>28.90</td>\n",
       "      <td>5.30</td>\n",
       "    </tr>\n",
       "  </tbody>\n",
       "</table>\n",
       "</div>"
      ],
      "text/plain": [
       "     humidity  precipitation  patients  Avg_temperature  Avg_wind_speed\n",
       "2   82.258065      91.100001       244            27.35            5.85\n",
       "13  84.142857       9.900000       175            27.35            4.85\n",
       "25  85.806452      60.500001        61            28.30            4.35\n",
       "34  91.433333     374.100007        35            28.25            3.45\n",
       "38  84.709677     432.400013        44            28.90            5.30"
      ]
     },
     "execution_count": 34,
     "metadata": {},
     "output_type": "execute_result"
    }
   ],
   "source": [
    "colombo_df = colombo_df.sort_values('Date').copy()\n",
    "colombo_df.drop(columns=['Date', 'Year','Month','station_name','TMPMAX','TMPMIN','wind_speed_8_30am','wind_speed_17_30pm'], inplace=True)\n",
    "colombo_df.head()"
   ]
  },
  {
   "cell_type": "code",
   "execution_count": 35,
   "metadata": {},
   "outputs": [],
   "source": [
    "from sklearn.preprocessing import MinMaxScaler\n",
    "\n",
    "columns_to_normalize = ['humidity', 'precipitation', 'Avg_temperature', 'Avg_wind_speed']\n",
    "\n",
    "scaler = MinMaxScaler()\n",
    "colombo_df[columns_to_normalize] = scaler.fit_transform(colombo_df[columns_to_normalize])"
   ]
  },
  {
   "cell_type": "code",
   "execution_count": 36,
   "metadata": {},
   "outputs": [],
   "source": [
    "# def create_time_feature(df):\n",
    "#     df['Quarter'] = df['Date'].dt.quarter\n",
    "#     df['Month'] = df['Date'].dt.month\n",
    "#     df['Year'] = df['Date'].dt.year\n",
    "#     return df"
   ]
  },
  {
   "cell_type": "code",
   "execution_count": 37,
   "metadata": {},
   "outputs": [],
   "source": [
    "# colombo_df = create_time_feature(colombo_df)\n",
    "# colombo_df.head()"
   ]
  },
  {
   "cell_type": "code",
   "execution_count": 38,
   "metadata": {},
   "outputs": [
    {
     "data": {
      "text/html": [
       "<div>\n",
       "<style scoped>\n",
       "    .dataframe tbody tr th:only-of-type {\n",
       "        vertical-align: middle;\n",
       "    }\n",
       "\n",
       "    .dataframe tbody tr th {\n",
       "        vertical-align: top;\n",
       "    }\n",
       "\n",
       "    .dataframe thead th {\n",
       "        text-align: right;\n",
       "    }\n",
       "</style>\n",
       "<table border=\"1\" class=\"dataframe\">\n",
       "  <thead>\n",
       "    <tr style=\"text-align: right;\">\n",
       "      <th></th>\n",
       "      <th>humidity</th>\n",
       "      <th>precipitation</th>\n",
       "      <th>patients</th>\n",
       "      <th>Avg_temperature</th>\n",
       "      <th>Avg_wind_speed</th>\n",
       "      <th>humidity-2</th>\n",
       "      <th>precipitation-2</th>\n",
       "      <th>precipitation-5</th>\n",
       "    </tr>\n",
       "  </thead>\n",
       "  <tbody>\n",
       "    <tr>\n",
       "      <th>2</th>\n",
       "      <td>0.489939</td>\n",
       "      <td>0.092745</td>\n",
       "      <td>244</td>\n",
       "      <td>0.238806</td>\n",
       "      <td>0.647482</td>\n",
       "      <td>NaN</td>\n",
       "      <td>NaN</td>\n",
       "      <td>NaN</td>\n",
       "    </tr>\n",
       "    <tr>\n",
       "      <th>13</th>\n",
       "      <td>0.580845</td>\n",
       "      <td>0.009068</td>\n",
       "      <td>175</td>\n",
       "      <td>0.238806</td>\n",
       "      <td>0.503597</td>\n",
       "      <td>NaN</td>\n",
       "      <td>NaN</td>\n",
       "      <td>NaN</td>\n",
       "    </tr>\n",
       "    <tr>\n",
       "      <th>25</th>\n",
       "      <td>0.661083</td>\n",
       "      <td>0.061212</td>\n",
       "      <td>61</td>\n",
       "      <td>0.522388</td>\n",
       "      <td>0.431655</td>\n",
       "      <td>0.489939</td>\n",
       "      <td>0.092745</td>\n",
       "      <td>NaN</td>\n",
       "    </tr>\n",
       "    <tr>\n",
       "      <th>34</th>\n",
       "      <td>0.932476</td>\n",
       "      <td>0.384378</td>\n",
       "      <td>35</td>\n",
       "      <td>0.507463</td>\n",
       "      <td>0.302158</td>\n",
       "      <td>0.580845</td>\n",
       "      <td>0.009068</td>\n",
       "      <td>NaN</td>\n",
       "    </tr>\n",
       "    <tr>\n",
       "      <th>38</th>\n",
       "      <td>0.608184</td>\n",
       "      <td>0.444456</td>\n",
       "      <td>44</td>\n",
       "      <td>0.701493</td>\n",
       "      <td>0.568345</td>\n",
       "      <td>0.661083</td>\n",
       "      <td>0.061212</td>\n",
       "      <td>NaN</td>\n",
       "    </tr>\n",
       "  </tbody>\n",
       "</table>\n",
       "</div>"
      ],
      "text/plain": [
       "    humidity  precipitation  patients  Avg_temperature  Avg_wind_speed  \\\n",
       "2   0.489939       0.092745       244         0.238806        0.647482   \n",
       "13  0.580845       0.009068       175         0.238806        0.503597   \n",
       "25  0.661083       0.061212        61         0.522388        0.431655   \n",
       "34  0.932476       0.384378        35         0.507463        0.302158   \n",
       "38  0.608184       0.444456        44         0.701493        0.568345   \n",
       "\n",
       "    humidity-2  precipitation-2  precipitation-5  \n",
       "2          NaN              NaN              NaN  \n",
       "13         NaN              NaN              NaN  \n",
       "25    0.489939         0.092745              NaN  \n",
       "34    0.580845         0.009068              NaN  \n",
       "38    0.661083         0.061212              NaN  "
      ]
     },
     "execution_count": 38,
     "metadata": {},
     "output_type": "execute_result"
    }
   ],
   "source": [
    "colombo_df['humidity-2'] = colombo_df['humidity'].shift(2)\n",
    "colombo_df['precipitation-2'] = colombo_df['precipitation'].shift(2)\n",
    "colombo_df['precipitation-5'] = colombo_df['precipitation'].shift(5)\n",
    "colombo_df.head()"
   ]
  },
  {
   "cell_type": "code",
   "execution_count": 39,
   "metadata": {},
   "outputs": [],
   "source": [
    "colombo_df = colombo_df.tail(colombo_df.shape[0]-5)"
   ]
  },
  {
   "cell_type": "code",
   "execution_count": 40,
   "metadata": {},
   "outputs": [
    {
     "data": {
      "text/html": [
       "<div>\n",
       "<style scoped>\n",
       "    .dataframe tbody tr th:only-of-type {\n",
       "        vertical-align: middle;\n",
       "    }\n",
       "\n",
       "    .dataframe tbody tr th {\n",
       "        vertical-align: top;\n",
       "    }\n",
       "\n",
       "    .dataframe thead th {\n",
       "        text-align: right;\n",
       "    }\n",
       "</style>\n",
       "<table border=\"1\" class=\"dataframe\">\n",
       "  <thead>\n",
       "    <tr style=\"text-align: right;\">\n",
       "      <th></th>\n",
       "      <th>humidity</th>\n",
       "      <th>precipitation</th>\n",
       "      <th>patients</th>\n",
       "      <th>Avg_temperature</th>\n",
       "      <th>Avg_wind_speed</th>\n",
       "      <th>humidity-2</th>\n",
       "      <th>precipitation-2</th>\n",
       "      <th>precipitation-5</th>\n",
       "    </tr>\n",
       "  </thead>\n",
       "  <tbody>\n",
       "    <tr>\n",
       "      <th>53</th>\n",
       "      <td>0.649518</td>\n",
       "      <td>0.081204</td>\n",
       "      <td>102</td>\n",
       "      <td>0.552239</td>\n",
       "      <td>0.575540</td>\n",
       "      <td>0.932476</td>\n",
       "      <td>0.384378</td>\n",
       "      <td>0.092745</td>\n",
       "    </tr>\n",
       "    <tr>\n",
       "      <th>60</th>\n",
       "      <td>0.695312</td>\n",
       "      <td>0.108718</td>\n",
       "      <td>163</td>\n",
       "      <td>0.388060</td>\n",
       "      <td>0.568345</td>\n",
       "      <td>0.608184</td>\n",
       "      <td>0.444456</td>\n",
       "      <td>0.009068</td>\n",
       "    </tr>\n",
       "    <tr>\n",
       "      <th>70</th>\n",
       "      <td>0.684421</td>\n",
       "      <td>0.267312</td>\n",
       "      <td>128</td>\n",
       "      <td>0.388060</td>\n",
       "      <td>0.618705</td>\n",
       "      <td>0.649518</td>\n",
       "      <td>0.081204</td>\n",
       "      <td>0.061212</td>\n",
       "    </tr>\n",
       "    <tr>\n",
       "      <th>78</th>\n",
       "      <td>0.686495</td>\n",
       "      <td>0.132110</td>\n",
       "      <td>158</td>\n",
       "      <td>0.402985</td>\n",
       "      <td>0.589928</td>\n",
       "      <td>0.695312</td>\n",
       "      <td>0.108718</td>\n",
       "      <td>0.384378</td>\n",
       "    </tr>\n",
       "    <tr>\n",
       "      <th>88</th>\n",
       "      <td>0.892905</td>\n",
       "      <td>0.299876</td>\n",
       "      <td>178</td>\n",
       "      <td>0.104478</td>\n",
       "      <td>0.287770</td>\n",
       "      <td>0.684421</td>\n",
       "      <td>0.267312</td>\n",
       "      <td>0.444456</td>\n",
       "    </tr>\n",
       "  </tbody>\n",
       "</table>\n",
       "</div>"
      ],
      "text/plain": [
       "    humidity  precipitation  patients  Avg_temperature  Avg_wind_speed  \\\n",
       "53  0.649518       0.081204       102         0.552239        0.575540   \n",
       "60  0.695312       0.108718       163         0.388060        0.568345   \n",
       "70  0.684421       0.267312       128         0.388060        0.618705   \n",
       "78  0.686495       0.132110       158         0.402985        0.589928   \n",
       "88  0.892905       0.299876       178         0.104478        0.287770   \n",
       "\n",
       "    humidity-2  precipitation-2  precipitation-5  \n",
       "53    0.932476         0.384378         0.092745  \n",
       "60    0.608184         0.444456         0.009068  \n",
       "70    0.649518         0.081204         0.061212  \n",
       "78    0.695312         0.108718         0.384378  \n",
       "88    0.684421         0.267312         0.444456  "
      ]
     },
     "execution_count": 40,
     "metadata": {},
     "output_type": "execute_result"
    }
   ],
   "source": [
    "colombo_df.head()"
   ]
  },
  {
   "cell_type": "code",
   "execution_count": 41,
   "metadata": {},
   "outputs": [],
   "source": [
    "# Reorder columns\n",
    "colombo_df = colombo_df.iloc[:, [0,5,1,6,7,3,4,2]]"
   ]
  },
  {
   "cell_type": "code",
   "execution_count": 42,
   "metadata": {},
   "outputs": [
    {
     "data": {
      "text/html": [
       "<div>\n",
       "<style scoped>\n",
       "    .dataframe tbody tr th:only-of-type {\n",
       "        vertical-align: middle;\n",
       "    }\n",
       "\n",
       "    .dataframe tbody tr th {\n",
       "        vertical-align: top;\n",
       "    }\n",
       "\n",
       "    .dataframe thead th {\n",
       "        text-align: right;\n",
       "    }\n",
       "</style>\n",
       "<table border=\"1\" class=\"dataframe\">\n",
       "  <thead>\n",
       "    <tr style=\"text-align: right;\">\n",
       "      <th></th>\n",
       "      <th>humidity-2</th>\n",
       "      <th>precipitation-2</th>\n",
       "      <th>precipitation-5</th>\n",
       "      <th>Avg_temperature</th>\n",
       "      <th>Avg_wind_speed</th>\n",
       "      <th>patients</th>\n",
       "    </tr>\n",
       "  </thead>\n",
       "  <tbody>\n",
       "    <tr>\n",
       "      <th>53</th>\n",
       "      <td>0.932476</td>\n",
       "      <td>0.384378</td>\n",
       "      <td>0.092745</td>\n",
       "      <td>0.552239</td>\n",
       "      <td>0.575540</td>\n",
       "      <td>102</td>\n",
       "    </tr>\n",
       "    <tr>\n",
       "      <th>60</th>\n",
       "      <td>0.608184</td>\n",
       "      <td>0.444456</td>\n",
       "      <td>0.009068</td>\n",
       "      <td>0.388060</td>\n",
       "      <td>0.568345</td>\n",
       "      <td>163</td>\n",
       "    </tr>\n",
       "    <tr>\n",
       "      <th>70</th>\n",
       "      <td>0.649518</td>\n",
       "      <td>0.081204</td>\n",
       "      <td>0.061212</td>\n",
       "      <td>0.388060</td>\n",
       "      <td>0.618705</td>\n",
       "      <td>128</td>\n",
       "    </tr>\n",
       "    <tr>\n",
       "      <th>78</th>\n",
       "      <td>0.695312</td>\n",
       "      <td>0.108718</td>\n",
       "      <td>0.384378</td>\n",
       "      <td>0.402985</td>\n",
       "      <td>0.589928</td>\n",
       "      <td>158</td>\n",
       "    </tr>\n",
       "    <tr>\n",
       "      <th>88</th>\n",
       "      <td>0.684421</td>\n",
       "      <td>0.267312</td>\n",
       "      <td>0.444456</td>\n",
       "      <td>0.104478</td>\n",
       "      <td>0.287770</td>\n",
       "      <td>178</td>\n",
       "    </tr>\n",
       "  </tbody>\n",
       "</table>\n",
       "</div>"
      ],
      "text/plain": [
       "    humidity-2  precipitation-2  precipitation-5  Avg_temperature  \\\n",
       "53    0.932476         0.384378         0.092745         0.552239   \n",
       "60    0.608184         0.444456         0.009068         0.388060   \n",
       "70    0.649518         0.081204         0.061212         0.388060   \n",
       "78    0.695312         0.108718         0.384378         0.402985   \n",
       "88    0.684421         0.267312         0.444456         0.104478   \n",
       "\n",
       "    Avg_wind_speed  patients  \n",
       "53        0.575540       102  \n",
       "60        0.568345       163  \n",
       "70        0.618705       128  \n",
       "78        0.589928       158  \n",
       "88        0.287770       178  "
      ]
     },
     "execution_count": 42,
     "metadata": {},
     "output_type": "execute_result"
    }
   ],
   "source": [
    "colombo_df.drop(columns=['humidity','precipitation'], inplace=True)\n",
    "colombo_df.head()"
   ]
  },
  {
   "cell_type": "code",
   "execution_count": 44,
   "metadata": {},
   "outputs": [],
   "source": [
    "split_ratio = 0.9\n",
    "total_rows = colombo_df.shape[0]\n",
    "train_size = int(total_rows*split_ratio)\n",
    " \n",
    "# Split data into test and train\n",
    "train = colombo_df[0:train_size]\n",
    "test = colombo_df[train_size:]"
   ]
  },
  {
   "cell_type": "code",
   "execution_count": 45,
   "metadata": {},
   "outputs": [
    {
     "name": "stdout",
     "output_type": "stream",
     "text": [
      "135 16\n"
     ]
    }
   ],
   "source": [
    "print(train.shape[0], test.shape[0])"
   ]
  },
  {
   "cell_type": "code",
   "execution_count": 46,
   "metadata": {},
   "outputs": [
    {
     "data": {
      "text/html": [
       "<div>\n",
       "<style scoped>\n",
       "    .dataframe tbody tr th:only-of-type {\n",
       "        vertical-align: middle;\n",
       "    }\n",
       "\n",
       "    .dataframe tbody tr th {\n",
       "        vertical-align: top;\n",
       "    }\n",
       "\n",
       "    .dataframe thead th {\n",
       "        text-align: right;\n",
       "    }\n",
       "</style>\n",
       "<table border=\"1\" class=\"dataframe\">\n",
       "  <thead>\n",
       "    <tr style=\"text-align: right;\">\n",
       "      <th></th>\n",
       "      <th>humidity-2</th>\n",
       "      <th>precipitation-2</th>\n",
       "      <th>precipitation-5</th>\n",
       "      <th>Avg_temperature</th>\n",
       "      <th>Avg_wind_speed</th>\n",
       "      <th>patients</th>\n",
       "    </tr>\n",
       "  </thead>\n",
       "  <tbody>\n",
       "    <tr>\n",
       "      <th>53</th>\n",
       "      <td>0.932476</td>\n",
       "      <td>0.384378</td>\n",
       "      <td>0.092745</td>\n",
       "      <td>0.552239</td>\n",
       "      <td>0.575540</td>\n",
       "      <td>102</td>\n",
       "    </tr>\n",
       "    <tr>\n",
       "      <th>60</th>\n",
       "      <td>0.608184</td>\n",
       "      <td>0.444456</td>\n",
       "      <td>0.009068</td>\n",
       "      <td>0.388060</td>\n",
       "      <td>0.568345</td>\n",
       "      <td>163</td>\n",
       "    </tr>\n",
       "    <tr>\n",
       "      <th>70</th>\n",
       "      <td>0.649518</td>\n",
       "      <td>0.081204</td>\n",
       "      <td>0.061212</td>\n",
       "      <td>0.388060</td>\n",
       "      <td>0.618705</td>\n",
       "      <td>128</td>\n",
       "    </tr>\n",
       "    <tr>\n",
       "      <th>78</th>\n",
       "      <td>0.695312</td>\n",
       "      <td>0.108718</td>\n",
       "      <td>0.384378</td>\n",
       "      <td>0.402985</td>\n",
       "      <td>0.589928</td>\n",
       "      <td>158</td>\n",
       "    </tr>\n",
       "    <tr>\n",
       "      <th>88</th>\n",
       "      <td>0.684421</td>\n",
       "      <td>0.267312</td>\n",
       "      <td>0.444456</td>\n",
       "      <td>0.104478</td>\n",
       "      <td>0.287770</td>\n",
       "      <td>178</td>\n",
       "    </tr>\n",
       "  </tbody>\n",
       "</table>\n",
       "</div>"
      ],
      "text/plain": [
       "    humidity-2  precipitation-2  precipitation-5  Avg_temperature  \\\n",
       "53    0.932476         0.384378         0.092745         0.552239   \n",
       "60    0.608184         0.444456         0.009068         0.388060   \n",
       "70    0.649518         0.081204         0.061212         0.388060   \n",
       "78    0.695312         0.108718         0.384378         0.402985   \n",
       "88    0.684421         0.267312         0.444456         0.104478   \n",
       "\n",
       "    Avg_wind_speed  patients  \n",
       "53        0.575540       102  \n",
       "60        0.568345       163  \n",
       "70        0.618705       128  \n",
       "78        0.589928       158  \n",
       "88        0.287770       178  "
      ]
     },
     "execution_count": 46,
     "metadata": {},
     "output_type": "execute_result"
    }
   ],
   "source": [
    "train.head()"
   ]
  },
  {
   "cell_type": "code",
   "execution_count": 47,
   "metadata": {},
   "outputs": [
    {
     "data": {
      "text/html": [
       "<div>\n",
       "<style scoped>\n",
       "    .dataframe tbody tr th:only-of-type {\n",
       "        vertical-align: middle;\n",
       "    }\n",
       "\n",
       "    .dataframe tbody tr th {\n",
       "        vertical-align: top;\n",
       "    }\n",
       "\n",
       "    .dataframe thead th {\n",
       "        text-align: right;\n",
       "    }\n",
       "</style>\n",
       "<table border=\"1\" class=\"dataframe\">\n",
       "  <thead>\n",
       "    <tr style=\"text-align: right;\">\n",
       "      <th></th>\n",
       "      <th>humidity-2</th>\n",
       "      <th>precipitation-2</th>\n",
       "      <th>precipitation-5</th>\n",
       "      <th>Avg_temperature</th>\n",
       "      <th>Avg_wind_speed</th>\n",
       "      <th>patients</th>\n",
       "    </tr>\n",
       "  </thead>\n",
       "  <tbody>\n",
       "    <tr>\n",
       "      <th>1695</th>\n",
       "      <td>0.431672</td>\n",
       "      <td>0.011748</td>\n",
       "      <td>0.487531</td>\n",
       "      <td>0.492537</td>\n",
       "      <td>0.532374</td>\n",
       "      <td>234</td>\n",
       "    </tr>\n",
       "    <tr>\n",
       "      <th>1707</th>\n",
       "      <td>0.431672</td>\n",
       "      <td>0.115416</td>\n",
       "      <td>0.361294</td>\n",
       "      <td>0.283582</td>\n",
       "      <td>0.503597</td>\n",
       "      <td>154</td>\n",
       "    </tr>\n",
       "    <tr>\n",
       "      <th>1716</th>\n",
       "      <td>0.412379</td>\n",
       "      <td>0.100577</td>\n",
       "      <td>0.092642</td>\n",
       "      <td>0.283582</td>\n",
       "      <td>0.402878</td>\n",
       "      <td>150</td>\n",
       "    </tr>\n",
       "    <tr>\n",
       "      <th>1720</th>\n",
       "      <td>0.586013</td>\n",
       "      <td>0.520919</td>\n",
       "      <td>0.011748</td>\n",
       "      <td>0.149254</td>\n",
       "      <td>0.654676</td>\n",
       "      <td>131</td>\n",
       "    </tr>\n",
       "    <tr>\n",
       "      <th>1734</th>\n",
       "      <td>0.467846</td>\n",
       "      <td>0.283904</td>\n",
       "      <td>0.115416</td>\n",
       "      <td>0.164179</td>\n",
       "      <td>0.877698</td>\n",
       "      <td>1065</td>\n",
       "    </tr>\n",
       "  </tbody>\n",
       "</table>\n",
       "</div>"
      ],
      "text/plain": [
       "      humidity-2  precipitation-2  precipitation-5  Avg_temperature  \\\n",
       "1695    0.431672         0.011748         0.487531         0.492537   \n",
       "1707    0.431672         0.115416         0.361294         0.283582   \n",
       "1716    0.412379         0.100577         0.092642         0.283582   \n",
       "1720    0.586013         0.520919         0.011748         0.149254   \n",
       "1734    0.467846         0.283904         0.115416         0.164179   \n",
       "\n",
       "      Avg_wind_speed  patients  \n",
       "1695        0.532374       234  \n",
       "1707        0.503597       154  \n",
       "1716        0.402878       150  \n",
       "1720        0.654676       131  \n",
       "1734        0.877698      1065  "
      ]
     },
     "execution_count": 47,
     "metadata": {},
     "output_type": "execute_result"
    }
   ],
   "source": [
    "test.head()"
   ]
  },
  {
   "cell_type": "code",
   "execution_count": 48,
   "metadata": {},
   "outputs": [],
   "source": [
    "X_train = train.drop('patients', axis =1)\n",
    "y_train = train['patients']\n",
    "\n",
    "X_test = test.drop('patients', axis =1)\n",
    "y_test = test['patients']"
   ]
  },
  {
   "cell_type": "code",
   "execution_count": 49,
   "metadata": {},
   "outputs": [
    {
     "name": "stdout",
     "output_type": "stream",
     "text": [
      "53      102\n",
      "60      163\n",
      "70      128\n",
      "78      158\n",
      "88      178\n",
      "       ... \n",
      "1652     57\n",
      "1657     74\n",
      "1671    132\n",
      "1676    213\n",
      "1691    232\n",
      "Name: patients, Length: 135, dtype: int64\n"
     ]
    }
   ],
   "source": [
    "print(y_train)"
   ]
  },
  {
   "cell_type": "code",
   "execution_count": 50,
   "metadata": {},
   "outputs": [
    {
     "data": {
      "text/html": [
       "<style>#sk-container-id-1 {color: black;background-color: white;}#sk-container-id-1 pre{padding: 0;}#sk-container-id-1 div.sk-toggleable {background-color: white;}#sk-container-id-1 label.sk-toggleable__label {cursor: pointer;display: block;width: 100%;margin-bottom: 0;padding: 0.3em;box-sizing: border-box;text-align: center;}#sk-container-id-1 label.sk-toggleable__label-arrow:before {content: \"▸\";float: left;margin-right: 0.25em;color: #696969;}#sk-container-id-1 label.sk-toggleable__label-arrow:hover:before {color: black;}#sk-container-id-1 div.sk-estimator:hover label.sk-toggleable__label-arrow:before {color: black;}#sk-container-id-1 div.sk-toggleable__content {max-height: 0;max-width: 0;overflow: hidden;text-align: left;background-color: #f0f8ff;}#sk-container-id-1 div.sk-toggleable__content pre {margin: 0.2em;color: black;border-radius: 0.25em;background-color: #f0f8ff;}#sk-container-id-1 input.sk-toggleable__control:checked~div.sk-toggleable__content {max-height: 200px;max-width: 100%;overflow: auto;}#sk-container-id-1 input.sk-toggleable__control:checked~label.sk-toggleable__label-arrow:before {content: \"▾\";}#sk-container-id-1 div.sk-estimator input.sk-toggleable__control:checked~label.sk-toggleable__label {background-color: #d4ebff;}#sk-container-id-1 div.sk-label input.sk-toggleable__control:checked~label.sk-toggleable__label {background-color: #d4ebff;}#sk-container-id-1 input.sk-hidden--visually {border: 0;clip: rect(1px 1px 1px 1px);clip: rect(1px, 1px, 1px, 1px);height: 1px;margin: -1px;overflow: hidden;padding: 0;position: absolute;width: 1px;}#sk-container-id-1 div.sk-estimator {font-family: monospace;background-color: #f0f8ff;border: 1px dotted black;border-radius: 0.25em;box-sizing: border-box;margin-bottom: 0.5em;}#sk-container-id-1 div.sk-estimator:hover {background-color: #d4ebff;}#sk-container-id-1 div.sk-parallel-item::after {content: \"\";width: 100%;border-bottom: 1px solid gray;flex-grow: 1;}#sk-container-id-1 div.sk-label:hover label.sk-toggleable__label {background-color: #d4ebff;}#sk-container-id-1 div.sk-serial::before {content: \"\";position: absolute;border-left: 1px solid gray;box-sizing: border-box;top: 0;bottom: 0;left: 50%;z-index: 0;}#sk-container-id-1 div.sk-serial {display: flex;flex-direction: column;align-items: center;background-color: white;padding-right: 0.2em;padding-left: 0.2em;position: relative;}#sk-container-id-1 div.sk-item {position: relative;z-index: 1;}#sk-container-id-1 div.sk-parallel {display: flex;align-items: stretch;justify-content: center;background-color: white;position: relative;}#sk-container-id-1 div.sk-item::before, #sk-container-id-1 div.sk-parallel-item::before {content: \"\";position: absolute;border-left: 1px solid gray;box-sizing: border-box;top: 0;bottom: 0;left: 50%;z-index: -1;}#sk-container-id-1 div.sk-parallel-item {display: flex;flex-direction: column;z-index: 1;position: relative;background-color: white;}#sk-container-id-1 div.sk-parallel-item:first-child::after {align-self: flex-end;width: 50%;}#sk-container-id-1 div.sk-parallel-item:last-child::after {align-self: flex-start;width: 50%;}#sk-container-id-1 div.sk-parallel-item:only-child::after {width: 0;}#sk-container-id-1 div.sk-dashed-wrapped {border: 1px dashed gray;margin: 0 0.4em 0.5em 0.4em;box-sizing: border-box;padding-bottom: 0.4em;background-color: white;}#sk-container-id-1 div.sk-label label {font-family: monospace;font-weight: bold;display: inline-block;line-height: 1.2em;}#sk-container-id-1 div.sk-label-container {text-align: center;}#sk-container-id-1 div.sk-container {/* jupyter's `normalize.less` sets `[hidden] { display: none; }` but bootstrap.min.css set `[hidden] { display: none !important; }` so we also need the `!important` here to be able to override the default hidden behavior on the sphinx rendered scikit-learn.org. See: https://github.com/scikit-learn/scikit-learn/issues/21755 */display: inline-block !important;position: relative;}#sk-container-id-1 div.sk-text-repr-fallback {display: none;}</style><div id=\"sk-container-id-1\" class=\"sk-top-container\"><div class=\"sk-text-repr-fallback\"><pre>XGBRegressor(base_score=None, booster=None, callbacks=None,\n",
       "             colsample_bylevel=None, colsample_bynode=None,\n",
       "             colsample_bytree=None, device=None, early_stopping_rounds=None,\n",
       "             enable_categorical=False, eval_metric=None, feature_types=None,\n",
       "             gamma=None, grow_policy=None, importance_type=None,\n",
       "             interaction_constraints=None, learning_rate=0.1, max_bin=None,\n",
       "             max_cat_threshold=None, max_cat_to_onehot=None,\n",
       "             max_delta_step=None, max_depth=3, max_leaves=None,\n",
       "             min_child_weight=None, missing=nan, monotone_constraints=None,\n",
       "             multi_strategy=None, n_estimators=100, n_jobs=None,\n",
       "             num_parallel_tree=None, random_state=0, ...)</pre><b>In a Jupyter environment, please rerun this cell to show the HTML representation or trust the notebook. <br />On GitHub, the HTML representation is unable to render, please try loading this page with nbviewer.org.</b></div><div class=\"sk-container\" hidden><div class=\"sk-item\"><div class=\"sk-estimator sk-toggleable\"><input class=\"sk-toggleable__control sk-hidden--visually\" id=\"sk-estimator-id-1\" type=\"checkbox\" checked><label for=\"sk-estimator-id-1\" class=\"sk-toggleable__label sk-toggleable__label-arrow\">XGBRegressor</label><div class=\"sk-toggleable__content\"><pre>XGBRegressor(base_score=None, booster=None, callbacks=None,\n",
       "             colsample_bylevel=None, colsample_bynode=None,\n",
       "             colsample_bytree=None, device=None, early_stopping_rounds=None,\n",
       "             enable_categorical=False, eval_metric=None, feature_types=None,\n",
       "             gamma=None, grow_policy=None, importance_type=None,\n",
       "             interaction_constraints=None, learning_rate=0.1, max_bin=None,\n",
       "             max_cat_threshold=None, max_cat_to_onehot=None,\n",
       "             max_delta_step=None, max_depth=3, max_leaves=None,\n",
       "             min_child_weight=None, missing=nan, monotone_constraints=None,\n",
       "             multi_strategy=None, n_estimators=100, n_jobs=None,\n",
       "             num_parallel_tree=None, random_state=0, ...)</pre></div></div></div></div></div>"
      ],
      "text/plain": [
       "XGBRegressor(base_score=None, booster=None, callbacks=None,\n",
       "             colsample_bylevel=None, colsample_bynode=None,\n",
       "             colsample_bytree=None, device=None, early_stopping_rounds=None,\n",
       "             enable_categorical=False, eval_metric=None, feature_types=None,\n",
       "             gamma=None, grow_policy=None, importance_type=None,\n",
       "             interaction_constraints=None, learning_rate=0.1, max_bin=None,\n",
       "             max_cat_threshold=None, max_cat_to_onehot=None,\n",
       "             max_delta_step=None, max_depth=3, max_leaves=None,\n",
       "             min_child_weight=None, missing=nan, monotone_constraints=None,\n",
       "             multi_strategy=None, n_estimators=100, n_jobs=None,\n",
       "             num_parallel_tree=None, random_state=0, ...)"
      ]
     },
     "execution_count": 50,
     "metadata": {},
     "output_type": "execute_result"
    }
   ],
   "source": [
    "import xgboost as xgb\n",
    "\n",
    "reg = xgb.XGBRegressor(n_estimators=100 , max_depth=3, learning_rate=0.1, random_state=0, objective='reg:squarederror')\n",
    "reg.fit(X_train, y_train, verbose = False)"
   ]
  },
  {
   "cell_type": "code",
   "execution_count": 51,
   "metadata": {},
   "outputs": [
    {
     "data": {
      "text/plain": [
       "<Axes: title={'center': 'Feature importance'}, xlabel='F score', ylabel='Features'>"
      ]
     },
     "execution_count": 51,
     "metadata": {},
     "output_type": "execute_result"
    },
    {
     "data": {
      "image/png": "[encoded data removed]",
      "text/plain": [
       "<Figure size 640x480 with 1 Axes>"
      ]
     },
     "metadata": {},
     "output_type": "display_data"
    }
   ],
   "source": [
    "xgb.plot_importance(reg)"
   ]
  },
  {
   "cell_type": "code",
   "execution_count": 52,
   "metadata": {},
   "outputs": [
    {
     "name": "stderr",
     "output_type": "stream",
     "text": [
      "C:\\Users\\User\\AppData\\Local\\Temp\\ipykernel_16140\\3124123449.py:1: SettingWithCopyWarning: \n",
      "A value is trying to be set on a copy of a slice from a DataFrame.\n",
      "Try using .loc[row_indexer,col_indexer] = value instead\n",
      "\n",
      "See the caveats in the documentation: https://pandas.pydata.org/pandas-docs/stable/user_guide/indexing.html#returning-a-view-versus-a-copy\n",
      "  train['patients_Prediction'] = reg.predict(X_train)\n"
     ]
    }
   ],
   "source": [
    "train['patients_Prediction'] = reg.predict(X_train)"
   ]
  },
  {
   "cell_type": "code",
   "execution_count": 53,
   "metadata": {},
   "outputs": [],
   "source": [
    "train.to_csv(\"train_Prediction.csv\", index=None)"
   ]
  },
  {
   "cell_type": "code",
   "execution_count": 54,
   "metadata": {},
   "outputs": [
    {
     "name": "stderr",
     "output_type": "stream",
     "text": [
      "C:\\Users\\User\\AppData\\Local\\Temp\\ipykernel_16140\\1297916988.py:1: SettingWithCopyWarning: \n",
      "A value is trying to be set on a copy of a slice from a DataFrame.\n",
      "Try using .loc[row_indexer,col_indexer] = value instead\n",
      "\n",
      "See the caveats in the documentation: https://pandas.pydata.org/pandas-docs/stable/user_guide/indexing.html#returning-a-view-versus-a-copy\n",
      "  test['patients_Prediction'] = reg.predict(X_test)\n"
     ]
    }
   ],
   "source": [
    "test['patients_Prediction'] = reg.predict(X_test)"
   ]
  },
  {
   "cell_type": "code",
   "execution_count": 55,
   "metadata": {},
   "outputs": [],
   "source": [
    "test.to_csv(\"test_Prediction.csv\", index=None)"
   ]
  },
  {
   "cell_type": "code",
   "execution_count": 56,
   "metadata": {},
   "outputs": [
    {
     "data": {
      "text/html": [
       "<div>\n",
       "<style scoped>\n",
       "    .dataframe tbody tr th:only-of-type {\n",
       "        vertical-align: middle;\n",
       "    }\n",
       "\n",
       "    .dataframe tbody tr th {\n",
       "        vertical-align: top;\n",
       "    }\n",
       "\n",
       "    .dataframe thead th {\n",
       "        text-align: right;\n",
       "    }\n",
       "</style>\n",
       "<table border=\"1\" class=\"dataframe\">\n",
       "  <thead>\n",
       "    <tr style=\"text-align: right;\">\n",
       "      <th></th>\n",
       "      <th>humidity-2</th>\n",
       "      <th>precipitation-2</th>\n",
       "      <th>precipitation-5</th>\n",
       "      <th>Avg_temperature</th>\n",
       "      <th>Avg_wind_speed</th>\n",
       "      <th>patients</th>\n",
       "      <th>patients_Prediction</th>\n",
       "    </tr>\n",
       "  </thead>\n",
       "  <tbody>\n",
       "    <tr>\n",
       "      <th>1695</th>\n",
       "      <td>0.431672</td>\n",
       "      <td>0.011748</td>\n",
       "      <td>0.487531</td>\n",
       "      <td>0.492537</td>\n",
       "      <td>0.532374</td>\n",
       "      <td>234</td>\n",
       "      <td>336.190552</td>\n",
       "    </tr>\n",
       "    <tr>\n",
       "      <th>1707</th>\n",
       "      <td>0.431672</td>\n",
       "      <td>0.115416</td>\n",
       "      <td>0.361294</td>\n",
       "      <td>0.283582</td>\n",
       "      <td>0.503597</td>\n",
       "      <td>154</td>\n",
       "      <td>412.150238</td>\n",
       "    </tr>\n",
       "    <tr>\n",
       "      <th>1716</th>\n",
       "      <td>0.412379</td>\n",
       "      <td>0.100577</td>\n",
       "      <td>0.092642</td>\n",
       "      <td>0.283582</td>\n",
       "      <td>0.402878</td>\n",
       "      <td>150</td>\n",
       "      <td>366.467834</td>\n",
       "    </tr>\n",
       "    <tr>\n",
       "      <th>1720</th>\n",
       "      <td>0.586013</td>\n",
       "      <td>0.520919</td>\n",
       "      <td>0.011748</td>\n",
       "      <td>0.149254</td>\n",
       "      <td>0.654676</td>\n",
       "      <td>131</td>\n",
       "      <td>665.501709</td>\n",
       "    </tr>\n",
       "    <tr>\n",
       "      <th>1734</th>\n",
       "      <td>0.467846</td>\n",
       "      <td>0.283904</td>\n",
       "      <td>0.115416</td>\n",
       "      <td>0.164179</td>\n",
       "      <td>0.877698</td>\n",
       "      <td>1065</td>\n",
       "      <td>1217.877197</td>\n",
       "    </tr>\n",
       "  </tbody>\n",
       "</table>\n",
       "</div>"
      ],
      "text/plain": [
       "      humidity-2  precipitation-2  precipitation-5  Avg_temperature  \\\n",
       "1695    0.431672         0.011748         0.487531         0.492537   \n",
       "1707    0.431672         0.115416         0.361294         0.283582   \n",
       "1716    0.412379         0.100577         0.092642         0.283582   \n",
       "1720    0.586013         0.520919         0.011748         0.149254   \n",
       "1734    0.467846         0.283904         0.115416         0.164179   \n",
       "\n",
       "      Avg_wind_speed  patients  patients_Prediction  \n",
       "1695        0.532374       234           336.190552  \n",
       "1707        0.503597       154           412.150238  \n",
       "1716        0.402878       150           366.467834  \n",
       "1720        0.654676       131           665.501709  \n",
       "1734        0.877698      1065          1217.877197  "
      ]
     },
     "execution_count": 56,
     "metadata": {},
     "output_type": "execute_result"
    }
   ],
   "source": [
    "test.head()"
   ]
  },
  {
   "cell_type": "code",
   "execution_count": 57,
   "metadata": {},
   "outputs": [
    {
     "name": "stdout",
     "output_type": "stream",
     "text": [
      "RMSE:  338055.772\n",
      "MAE:  447.338\n",
      "MAPE:  0.779\n"
     ]
    }
   ],
   "source": [
    "from sklearn.metrics import mean_squared_error, mean_absolute_error, mean_absolute_percentage_error\n",
    "\n",
    "print('RMSE: ', round(mean_squared_error(y_true=test['patients'],y_pred=test['patients_Prediction']),3))\n",
    "print('MAE: ', round(mean_absolute_error(y_true=test['patients'],y_pred=test['patients_Prediction']),3))\n",
    "print('MAPE: ', round(mean_absolute_percentage_error(y_true=test['patients'],y_pred=test['patients_Prediction']),3))"
   ]
  }
 ],
 "metadata": {
  "kernelspec": {
   "display_name": "Python 3",
   "language": "python",
   "name": "python3"
  },
  "language_info": {
   "codemirror_mode": {
    "name": "ipython",
    "version": 3
   },
   "file_extension": ".py",
   "mimetype": "text/x-python",
   "name": "python",
   "nbconvert_exporter": "python",
   "pygments_lexer": "ipython3",
   "version": "3.11.7"
  }
 },
 "nbformat": 4,
 "nbformat_minor": 2
}
