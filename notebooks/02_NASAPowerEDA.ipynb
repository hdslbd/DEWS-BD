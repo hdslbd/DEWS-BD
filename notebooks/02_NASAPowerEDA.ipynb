{
 "cells": [
  {
   "cell_type": "code",
   "execution_count": 1,
   "id": "ae561c08-54fa-4568-bd05-eb72ad045469",
   "metadata": {},
   "outputs": [],
   "source": [
    "import pandas as pd\n",
    "import numpy as np\n",
    "import matplotlib.pylab as plt\n",
    "import seaborn as sns\n",
    "plt.style.use('ggplot')"
   ]
  },
  {
   "cell_type": "code",
   "execution_count": 2,
   "id": "37bf50c5-7da0-4f2e-97a2-bf0ff3166b83",
   "metadata": {},
   "outputs": [],
   "source": [
    "df = pd.read_csv(\"../data/processed/climate_dengue_data.csv\")"
   ]
  },
  {
   "cell_type": "code",
   "execution_count": 3,
   "id": "cd1c6d37-d858-4696-865c-7329d8b4f15f",
   "metadata": {},
   "outputs": [
    {
     "data": {
      "text/html": [
       "<div>\n",
       "<style scoped>\n",
       "    .dataframe tbody tr th:only-of-type {\n",
       "        vertical-align: middle;\n",
       "    }\n",
       "\n",
       "    .dataframe tbody tr th {\n",
       "        vertical-align: top;\n",
       "    }\n",
       "\n",
       "    .dataframe thead th {\n",
       "        text-align: right;\n",
       "    }\n",
       "</style>\n",
       "<table border=\"1\" class=\"dataframe\">\n",
       "  <thead>\n",
       "    <tr style=\"text-align: right;\">\n",
       "      <th></th>\n",
       "      <th>YEAR</th>\n",
       "      <th>MONTH</th>\n",
       "      <th>DATE</th>\n",
       "      <th>T2M</th>\n",
       "      <th>T2M_MAX</th>\n",
       "      <th>T2M_MIN</th>\n",
       "      <th>RH2M</th>\n",
       "      <th>PRECIPITATION</th>\n",
       "      <th>PS</th>\n",
       "      <th>GWETTOP</th>\n",
       "      <th>CASES</th>\n",
       "    </tr>\n",
       "  </thead>\n",
       "  <tbody>\n",
       "    <tr>\n",
       "      <th>0</th>\n",
       "      <td>2000</td>\n",
       "      <td>Jan</td>\n",
       "      <td>2000-01-01</td>\n",
       "      <td>18.432581</td>\n",
       "      <td>25.855806</td>\n",
       "      <td>11.917742</td>\n",
       "      <td>62.302581</td>\n",
       "      <td>0.336129</td>\n",
       "      <td>101.303871</td>\n",
       "      <td>0.482903</td>\n",
       "      <td>0.0</td>\n",
       "    </tr>\n",
       "    <tr>\n",
       "      <th>1</th>\n",
       "      <td>2000</td>\n",
       "      <td>Feb</td>\n",
       "      <td>2000-02-01</td>\n",
       "      <td>20.534828</td>\n",
       "      <td>27.961379</td>\n",
       "      <td>13.949655</td>\n",
       "      <td>52.387586</td>\n",
       "      <td>0.767931</td>\n",
       "      <td>101.201724</td>\n",
       "      <td>0.418621</td>\n",
       "      <td>0.0</td>\n",
       "    </tr>\n",
       "    <tr>\n",
       "      <th>2</th>\n",
       "      <td>2000</td>\n",
       "      <td>Mar</td>\n",
       "      <td>2000-03-01</td>\n",
       "      <td>25.716129</td>\n",
       "      <td>33.292903</td>\n",
       "      <td>18.939677</td>\n",
       "      <td>55.770645</td>\n",
       "      <td>2.491290</td>\n",
       "      <td>100.850323</td>\n",
       "      <td>0.408387</td>\n",
       "      <td>0.0</td>\n",
       "    </tr>\n",
       "    <tr>\n",
       "      <th>3</th>\n",
       "      <td>2000</td>\n",
       "      <td>Apr</td>\n",
       "      <td>2000-04-01</td>\n",
       "      <td>29.433667</td>\n",
       "      <td>35.720000</td>\n",
       "      <td>24.302333</td>\n",
       "      <td>67.858667</td>\n",
       "      <td>5.166000</td>\n",
       "      <td>100.444667</td>\n",
       "      <td>0.414667</td>\n",
       "      <td>0.0</td>\n",
       "    </tr>\n",
       "    <tr>\n",
       "      <th>4</th>\n",
       "      <td>2000</td>\n",
       "      <td>May</td>\n",
       "      <td>2000-05-01</td>\n",
       "      <td>28.500000</td>\n",
       "      <td>32.106129</td>\n",
       "      <td>25.376452</td>\n",
       "      <td>81.627742</td>\n",
       "      <td>13.226774</td>\n",
       "      <td>100.290645</td>\n",
       "      <td>0.640000</td>\n",
       "      <td>0.0</td>\n",
       "    </tr>\n",
       "  </tbody>\n",
       "</table>\n",
       "</div>"
      ],
      "text/plain": [
       "   YEAR MONTH        DATE        T2M    T2M_MAX    T2M_MIN       RH2M  \\\n",
       "0  2000   Jan  2000-01-01  18.432581  25.855806  11.917742  62.302581   \n",
       "1  2000   Feb  2000-02-01  20.534828  27.961379  13.949655  52.387586   \n",
       "2  2000   Mar  2000-03-01  25.716129  33.292903  18.939677  55.770645   \n",
       "3  2000   Apr  2000-04-01  29.433667  35.720000  24.302333  67.858667   \n",
       "4  2000   May  2000-05-01  28.500000  32.106129  25.376452  81.627742   \n",
       "\n",
       "   PRECIPITATION          PS   GWETTOP  CASES  \n",
       "0       0.336129  101.303871  0.482903    0.0  \n",
       "1       0.767931  101.201724  0.418621    0.0  \n",
       "2       2.491290  100.850323  0.408387    0.0  \n",
       "3       5.166000  100.444667  0.414667    0.0  \n",
       "4      13.226774  100.290645  0.640000    0.0  "
      ]
     },
     "execution_count": 3,
     "metadata": {},
     "output_type": "execute_result"
    }
   ],
   "source": [
    "df.head()"
   ]
  },
  {
   "cell_type": "code",
   "execution_count": 4,
   "id": "77f9e999-5cd2-4e46-9a3f-35dfb47eda0a",
   "metadata": {},
   "outputs": [
    {
     "data": {
      "text/plain": [
       "(288, 11)"
      ]
     },
     "execution_count": 4,
     "metadata": {},
     "output_type": "execute_result"
    }
   ],
   "source": [
    "df.shape"
   ]
  },
  {
   "cell_type": "code",
   "execution_count": 5,
   "id": "11a75213-4ed1-4e93-a734-f65321c50e69",
   "metadata": {},
   "outputs": [
    {
     "data": {
      "text/plain": [
       "Index(['YEAR', 'MONTH', 'DATE', 'T2M', 'T2M_MAX', 'T2M_MIN', 'RH2M',\n",
       "       'PRECIPITATION', 'PS', 'GWETTOP', 'CASES'],\n",
       "      dtype='object')"
      ]
     },
     "execution_count": 5,
     "metadata": {},
     "output_type": "execute_result"
    }
   ],
   "source": [
    "df.columns"
   ]
  },
  {
   "cell_type": "code",
   "execution_count": 6,
   "id": "97f5bf0c-b95b-40c8-b8fc-75e8c51183c3",
   "metadata": {},
   "outputs": [
    {
     "data": {
      "text/plain": [
       "YEAR               int64\n",
       "MONTH             object\n",
       "DATE              object\n",
       "T2M              float64\n",
       "T2M_MAX          float64\n",
       "T2M_MIN          float64\n",
       "RH2M             float64\n",
       "PRECIPITATION    float64\n",
       "PS               float64\n",
       "GWETTOP          float64\n",
       "CASES            float64\n",
       "dtype: object"
      ]
     },
     "execution_count": 6,
     "metadata": {},
     "output_type": "execute_result"
    }
   ],
   "source": [
    "df.dtypes"
   ]
  },
  {
   "cell_type": "code",
   "execution_count": 8,
   "id": "4bc08a57-5c15-4236-9ef2-aa9fcdf419c8",
   "metadata": {},
   "outputs": [
    {
     "data": {
      "text/html": [
       "<div>\n",
       "<style scoped>\n",
       "    .dataframe tbody tr th:only-of-type {\n",
       "        vertical-align: middle;\n",
       "    }\n",
       "\n",
       "    .dataframe tbody tr th {\n",
       "        vertical-align: top;\n",
       "    }\n",
       "\n",
       "    .dataframe thead th {\n",
       "        text-align: right;\n",
       "    }\n",
       "</style>\n",
       "<table border=\"1\" class=\"dataframe\">\n",
       "  <thead>\n",
       "    <tr style=\"text-align: right;\">\n",
       "      <th></th>\n",
       "      <th>T2M</th>\n",
       "      <th>T2M_MAX</th>\n",
       "      <th>T2M_MIN</th>\n",
       "      <th>RH2M</th>\n",
       "      <th>PRECIPITATION</th>\n",
       "      <th>PS</th>\n",
       "      <th>GWETTOP</th>\n",
       "      <th>CASES</th>\n",
       "    </tr>\n",
       "  </thead>\n",
       "  <tbody>\n",
       "    <tr>\n",
       "      <th>count</th>\n",
       "      <td>288.000000</td>\n",
       "      <td>288.000000</td>\n",
       "      <td>288.000000</td>\n",
       "      <td>288.000000</td>\n",
       "      <td>288.000000</td>\n",
       "      <td>288.000000</td>\n",
       "      <td>288.000000</td>\n",
       "      <td>288.000000</td>\n",
       "    </tr>\n",
       "    <tr>\n",
       "      <th>mean</th>\n",
       "      <td>25.532194</td>\n",
       "      <td>30.255952</td>\n",
       "      <td>21.497347</td>\n",
       "      <td>76.083841</td>\n",
       "      <td>6.058036</td>\n",
       "      <td>100.731287</td>\n",
       "      <td>0.672272</td>\n",
       "      <td>7.993056</td>\n",
       "    </tr>\n",
       "    <tr>\n",
       "      <th>std</th>\n",
       "      <td>4.090699</td>\n",
       "      <td>3.440397</td>\n",
       "      <td>5.201129</td>\n",
       "      <td>13.077637</td>\n",
       "      <td>6.129105</td>\n",
       "      <td>0.510560</td>\n",
       "      <td>0.197484</td>\n",
       "      <td>43.431310</td>\n",
       "    </tr>\n",
       "    <tr>\n",
       "      <th>min</th>\n",
       "      <td>15.561613</td>\n",
       "      <td>21.726452</td>\n",
       "      <td>10.258387</td>\n",
       "      <td>45.113226</td>\n",
       "      <td>0.000000</td>\n",
       "      <td>99.808667</td>\n",
       "      <td>0.305806</td>\n",
       "      <td>0.000000</td>\n",
       "    </tr>\n",
       "    <tr>\n",
       "      <th>25%</th>\n",
       "      <td>22.317161</td>\n",
       "      <td>27.903893</td>\n",
       "      <td>17.044167</td>\n",
       "      <td>66.911147</td>\n",
       "      <td>0.640161</td>\n",
       "      <td>100.250242</td>\n",
       "      <td>0.480726</td>\n",
       "      <td>0.000000</td>\n",
       "    </tr>\n",
       "    <tr>\n",
       "      <th>50%</th>\n",
       "      <td>27.505500</td>\n",
       "      <td>30.669151</td>\n",
       "      <td>23.813366</td>\n",
       "      <td>79.764194</td>\n",
       "      <td>4.734194</td>\n",
       "      <td>100.754102</td>\n",
       "      <td>0.714548</td>\n",
       "      <td>0.000000</td>\n",
       "    </tr>\n",
       "    <tr>\n",
       "      <th>75%</th>\n",
       "      <td>28.459833</td>\n",
       "      <td>32.005242</td>\n",
       "      <td>26.053065</td>\n",
       "      <td>88.339000</td>\n",
       "      <td>9.710726</td>\n",
       "      <td>101.207750</td>\n",
       "      <td>0.849032</td>\n",
       "      <td>0.000000</td>\n",
       "    </tr>\n",
       "    <tr>\n",
       "      <th>max</th>\n",
       "      <td>31.879000</td>\n",
       "      <td>39.073667</td>\n",
       "      <td>27.242000</td>\n",
       "      <td>91.758000</td>\n",
       "      <td>32.190000</td>\n",
       "      <td>101.569677</td>\n",
       "      <td>0.963226</td>\n",
       "      <td>382.000000</td>\n",
       "    </tr>\n",
       "  </tbody>\n",
       "</table>\n",
       "</div>"
      ],
      "text/plain": [
       "              T2M     T2M_MAX     T2M_MIN        RH2M  PRECIPITATION  \\\n",
       "count  288.000000  288.000000  288.000000  288.000000     288.000000   \n",
       "mean    25.532194   30.255952   21.497347   76.083841       6.058036   \n",
       "std      4.090699    3.440397    5.201129   13.077637       6.129105   \n",
       "min     15.561613   21.726452   10.258387   45.113226       0.000000   \n",
       "25%     22.317161   27.903893   17.044167   66.911147       0.640161   \n",
       "50%     27.505500   30.669151   23.813366   79.764194       4.734194   \n",
       "75%     28.459833   32.005242   26.053065   88.339000       9.710726   \n",
       "max     31.879000   39.073667   27.242000   91.758000      32.190000   \n",
       "\n",
       "               PS     GWETTOP       CASES  \n",
       "count  288.000000  288.000000  288.000000  \n",
       "mean   100.731287    0.672272    7.993056  \n",
       "std      0.510560    0.197484   43.431310  \n",
       "min     99.808667    0.305806    0.000000  \n",
       "25%    100.250242    0.480726    0.000000  \n",
       "50%    100.754102    0.714548    0.000000  \n",
       "75%    101.207750    0.849032    0.000000  \n",
       "max    101.569677    0.963226  382.000000  "
      ]
     },
     "execution_count": 8,
     "metadata": {},
     "output_type": "execute_result"
    }
   ],
   "source": [
    "df[['T2M', 'T2M_MAX', 'T2M_MIN', 'RH2M', 'PRECIPITATION', 'PS', 'GWETTOP', 'CASES']].describe()"
   ]
  },
  {
   "cell_type": "code",
   "execution_count": 9,
   "id": "1535b0df-257f-4a63-bd0a-a37b629c6978",
   "metadata": {},
   "outputs": [
    {
     "data": {
      "text/html": [
       "<div>\n",
       "<style scoped>\n",
       "    .dataframe tbody tr th:only-of-type {\n",
       "        vertical-align: middle;\n",
       "    }\n",
       "\n",
       "    .dataframe tbody tr th {\n",
       "        vertical-align: top;\n",
       "    }\n",
       "\n",
       "    .dataframe thead th {\n",
       "        text-align: right;\n",
       "    }\n",
       "</style>\n",
       "<table border=\"1\" class=\"dataframe\">\n",
       "  <thead>\n",
       "    <tr style=\"text-align: right;\">\n",
       "      <th></th>\n",
       "      <th>YEAR</th>\n",
       "      <th>MONTH</th>\n",
       "      <th>DATE</th>\n",
       "      <th>T2M</th>\n",
       "      <th>T2M_MAX</th>\n",
       "      <th>T2M_MIN</th>\n",
       "      <th>RH2M</th>\n",
       "      <th>PRECIPITATION</th>\n",
       "      <th>PS</th>\n",
       "      <th>GWETTOP</th>\n",
       "      <th>CASES</th>\n",
       "    </tr>\n",
       "  </thead>\n",
       "  <tbody>\n",
       "  </tbody>\n",
       "</table>\n",
       "</div>"
      ],
      "text/plain": [
       "Empty DataFrame\n",
       "Columns: [YEAR, MONTH, DATE, T2M, T2M_MAX, T2M_MIN, RH2M, PRECIPITATION, PS, GWETTOP, CASES]\n",
       "Index: []"
      ]
     },
     "execution_count": 9,
     "metadata": {},
     "output_type": "execute_result"
    }
   ],
   "source": [
    "# Identifying duplicated columns\n",
    "df.loc[df.duplicated(subset = ['YEAR', 'MONTH'])]"
   ]
  },
  {
   "cell_type": "code",
   "execution_count": 10,
   "id": "a494c25c-16cd-4656-aa12-74fd6f26c950",
   "metadata": {},
   "outputs": [
    {
     "data": {
      "text/plain": [
       "YEAR             0\n",
       "MONTH            0\n",
       "DATE             0\n",
       "T2M              0\n",
       "T2M_MAX          0\n",
       "T2M_MIN          0\n",
       "RH2M             0\n",
       "PRECIPITATION    0\n",
       "PS               0\n",
       "GWETTOP          0\n",
       "CASES            0\n",
       "dtype: int64"
      ]
     },
     "execution_count": 10,
     "metadata": {},
     "output_type": "execute_result"
    }
   ],
   "source": [
    "# Identifying number of null values\n",
    "df.isna().sum()"
   ]
  },
  {
   "cell_type": "code",
   "execution_count": 11,
   "id": "c13177e6-f62b-430b-83fa-fd57963cb84c",
   "metadata": {},
   "outputs": [
    {
     "data": {
      "text/plain": [
       "Index(['YEAR', 'MONTH', 'DATE', 'T2M', 'T2M_MAX', 'T2M_MIN', 'RH2M',\n",
       "       'PRECIPITATION', 'PS', 'GWETTOP', 'CASES'],\n",
       "      dtype='object')"
      ]
     },
     "execution_count": 11,
     "metadata": {},
     "output_type": "execute_result"
    }
   ],
   "source": [
    "df.columns"
   ]
  },
  {
   "cell_type": "code",
   "execution_count": 12,
   "id": "9137a375-302a-4dfc-a705-fb0734994fa7",
   "metadata": {},
   "outputs": [
    {
     "data": {
      "text/html": [
       "<div>\n",
       "<style scoped>\n",
       "    .dataframe tbody tr th:only-of-type {\n",
       "        vertical-align: middle;\n",
       "    }\n",
       "\n",
       "    .dataframe tbody tr th {\n",
       "        vertical-align: top;\n",
       "    }\n",
       "\n",
       "    .dataframe thead th {\n",
       "        text-align: right;\n",
       "    }\n",
       "</style>\n",
       "<table border=\"1\" class=\"dataframe\">\n",
       "  <thead>\n",
       "    <tr style=\"text-align: right;\">\n",
       "      <th></th>\n",
       "      <th>YEAR</th>\n",
       "      <th>MONTH</th>\n",
       "      <th>DATE</th>\n",
       "      <th>T2M</th>\n",
       "      <th>T2M_MAX</th>\n",
       "      <th>T2M_MIN</th>\n",
       "      <th>RH2M</th>\n",
       "      <th>PRECIPITATION</th>\n",
       "      <th>PS</th>\n",
       "      <th>GWETTOP</th>\n",
       "      <th>CASES</th>\n",
       "    </tr>\n",
       "  </thead>\n",
       "  <tbody>\n",
       "    <tr>\n",
       "      <th>0</th>\n",
       "      <td>2000</td>\n",
       "      <td>Jan</td>\n",
       "      <td>2000-01-01</td>\n",
       "      <td>0.175945</td>\n",
       "      <td>0.238041</td>\n",
       "      <td>0.097703</td>\n",
       "      <td>0.368516</td>\n",
       "      <td>0.010442</td>\n",
       "      <td>0.849060</td>\n",
       "      <td>0.269382</td>\n",
       "      <td>0.0</td>\n",
       "    </tr>\n",
       "    <tr>\n",
       "      <th>1</th>\n",
       "      <td>2000</td>\n",
       "      <td>Feb</td>\n",
       "      <td>2000-02-01</td>\n",
       "      <td>0.304780</td>\n",
       "      <td>0.359420</td>\n",
       "      <td>0.217343</td>\n",
       "      <td>0.155952</td>\n",
       "      <td>0.023856</td>\n",
       "      <td>0.791056</td>\n",
       "      <td>0.171602</td>\n",
       "      <td>0.0</td>\n",
       "    </tr>\n",
       "    <tr>\n",
       "      <th>2</th>\n",
       "      <td>2000</td>\n",
       "      <td>Mar</td>\n",
       "      <td>2000-03-01</td>\n",
       "      <td>0.622313</td>\n",
       "      <td>0.666761</td>\n",
       "      <td>0.511157</td>\n",
       "      <td>0.228480</td>\n",
       "      <td>0.077393</td>\n",
       "      <td>0.591510</td>\n",
       "      <td>0.156035</td>\n",
       "      <td>0.0</td>\n",
       "    </tr>\n",
       "    <tr>\n",
       "      <th>3</th>\n",
       "      <td>2000</td>\n",
       "      <td>Apr</td>\n",
       "      <td>2000-04-01</td>\n",
       "      <td>0.850139</td>\n",
       "      <td>0.806674</td>\n",
       "      <td>0.826912</td>\n",
       "      <td>0.487631</td>\n",
       "      <td>0.160485</td>\n",
       "      <td>0.361156</td>\n",
       "      <td>0.165587</td>\n",
       "      <td>0.0</td>\n",
       "    </tr>\n",
       "    <tr>\n",
       "      <th>4</th>\n",
       "      <td>2000</td>\n",
       "      <td>May</td>\n",
       "      <td>2000-05-01</td>\n",
       "      <td>0.792920</td>\n",
       "      <td>0.598348</td>\n",
       "      <td>0.890156</td>\n",
       "      <td>0.782821</td>\n",
       "      <td>0.410897</td>\n",
       "      <td>0.273694</td>\n",
       "      <td>0.508342</td>\n",
       "      <td>0.0</td>\n",
       "    </tr>\n",
       "  </tbody>\n",
       "</table>\n",
       "</div>"
      ],
      "text/plain": [
       "   YEAR MONTH        DATE       T2M   T2M_MAX   T2M_MIN      RH2M  \\\n",
       "0  2000   Jan  2000-01-01  0.175945  0.238041  0.097703  0.368516   \n",
       "1  2000   Feb  2000-02-01  0.304780  0.359420  0.217343  0.155952   \n",
       "2  2000   Mar  2000-03-01  0.622313  0.666761  0.511157  0.228480   \n",
       "3  2000   Apr  2000-04-01  0.850139  0.806674  0.826912  0.487631   \n",
       "4  2000   May  2000-05-01  0.792920  0.598348  0.890156  0.782821   \n",
       "\n",
       "   PRECIPITATION        PS   GWETTOP  CASES  \n",
       "0       0.010442  0.849060  0.269382    0.0  \n",
       "1       0.023856  0.791056  0.171602    0.0  \n",
       "2       0.077393  0.591510  0.156035    0.0  \n",
       "3       0.160485  0.361156  0.165587    0.0  \n",
       "4       0.410897  0.273694  0.508342    0.0  "
      ]
     },
     "execution_count": 12,
     "metadata": {},
     "output_type": "execute_result"
    }
   ],
   "source": [
    "from sklearn.preprocessing import MinMaxScaler\n",
    "\n",
    "columns_to_normalize = ['T2M', 'T2M_MAX', \n",
    "                        'T2M_MIN', 'RH2M', 'PRECIPITATION', \n",
    "                        'PS', 'GWETTOP', 'CASES']\n",
    "\n",
    "# Create a new DataFrame with the selected columns\n",
    "df_normalized = df.copy()\n",
    "\n",
    "# Normalize the selected columns\n",
    "scaler = MinMaxScaler()\n",
    "df_normalized[columns_to_normalize] = scaler.fit_transform(df_normalized[columns_to_normalize])\n",
    "\n",
    "# Print the normalized DataFrame\n",
    "df_normalized.head()"
   ]
  },
  {
   "cell_type": "code",
   "execution_count": 14,
   "id": "343ef80a-58e3-414b-9024-ada41359dcfd",
   "metadata": {},
   "outputs": [
    {
     "data": {
      "text/plain": [
       "YEAR                      int64\n",
       "MONTH                    object\n",
       "DATE             datetime64[ns]\n",
       "T2M                     float64\n",
       "T2M_MAX                 float64\n",
       "T2M_MIN                 float64\n",
       "RH2M                    float64\n",
       "PRECIPITATION           float64\n",
       "PS                      float64\n",
       "GWETTOP                 float64\n",
       "CASES                   float64\n",
       "dtype: object"
      ]
     },
     "execution_count": 14,
     "metadata": {},
     "output_type": "execute_result"
    }
   ],
   "source": [
    "# convert date into date64 datatype and check the types \n",
    "df_normalized['DATE'] = pd.to_datetime(df_normalized['DATE']).dt.normalize()\n",
    "df_normalized.dtypes"
   ]
  },
  {
   "cell_type": "code",
   "execution_count": 16,
   "id": "ec13e625-2fab-44ec-ad5c-08566b021c6f",
   "metadata": {},
   "outputs": [
    {
     "data": {
      "text/html": [
       "<div>\n",
       "<style scoped>\n",
       "    .dataframe tbody tr th:only-of-type {\n",
       "        vertical-align: middle;\n",
       "    }\n",
       "\n",
       "    .dataframe tbody tr th {\n",
       "        vertical-align: top;\n",
       "    }\n",
       "\n",
       "    .dataframe thead th {\n",
       "        text-align: right;\n",
       "    }\n",
       "</style>\n",
       "<table border=\"1\" class=\"dataframe\">\n",
       "  <thead>\n",
       "    <tr style=\"text-align: right;\">\n",
       "      <th></th>\n",
       "      <th>YEAR</th>\n",
       "      <th>MONTH</th>\n",
       "      <th>DATE</th>\n",
       "      <th>T2M</th>\n",
       "      <th>T2M_MAX</th>\n",
       "      <th>T2M_MIN</th>\n",
       "      <th>RH2M</th>\n",
       "      <th>PRECIPITATION</th>\n",
       "      <th>PS</th>\n",
       "      <th>GWETTOP</th>\n",
       "      <th>CASES</th>\n",
       "    </tr>\n",
       "  </thead>\n",
       "  <tbody>\n",
       "    <tr>\n",
       "      <th>0</th>\n",
       "      <td>2000</td>\n",
       "      <td>Jan</td>\n",
       "      <td>2000-01-01</td>\n",
       "      <td>0.175945</td>\n",
       "      <td>0.238041</td>\n",
       "      <td>0.097703</td>\n",
       "      <td>0.368516</td>\n",
       "      <td>0.010442</td>\n",
       "      <td>0.849060</td>\n",
       "      <td>0.269382</td>\n",
       "      <td>0.0</td>\n",
       "    </tr>\n",
       "    <tr>\n",
       "      <th>1</th>\n",
       "      <td>2000</td>\n",
       "      <td>Feb</td>\n",
       "      <td>2000-02-01</td>\n",
       "      <td>0.304780</td>\n",
       "      <td>0.359420</td>\n",
       "      <td>0.217343</td>\n",
       "      <td>0.155952</td>\n",
       "      <td>0.023856</td>\n",
       "      <td>0.791056</td>\n",
       "      <td>0.171602</td>\n",
       "      <td>0.0</td>\n",
       "    </tr>\n",
       "    <tr>\n",
       "      <th>2</th>\n",
       "      <td>2000</td>\n",
       "      <td>Mar</td>\n",
       "      <td>2000-03-01</td>\n",
       "      <td>0.622313</td>\n",
       "      <td>0.666761</td>\n",
       "      <td>0.511157</td>\n",
       "      <td>0.228480</td>\n",
       "      <td>0.077393</td>\n",
       "      <td>0.591510</td>\n",
       "      <td>0.156035</td>\n",
       "      <td>0.0</td>\n",
       "    </tr>\n",
       "    <tr>\n",
       "      <th>3</th>\n",
       "      <td>2000</td>\n",
       "      <td>Apr</td>\n",
       "      <td>2000-04-01</td>\n",
       "      <td>0.850139</td>\n",
       "      <td>0.806674</td>\n",
       "      <td>0.826912</td>\n",
       "      <td>0.487631</td>\n",
       "      <td>0.160485</td>\n",
       "      <td>0.361156</td>\n",
       "      <td>0.165587</td>\n",
       "      <td>0.0</td>\n",
       "    </tr>\n",
       "    <tr>\n",
       "      <th>4</th>\n",
       "      <td>2000</td>\n",
       "      <td>May</td>\n",
       "      <td>2000-05-01</td>\n",
       "      <td>0.792920</td>\n",
       "      <td>0.598348</td>\n",
       "      <td>0.890156</td>\n",
       "      <td>0.782821</td>\n",
       "      <td>0.410897</td>\n",
       "      <td>0.273694</td>\n",
       "      <td>0.508342</td>\n",
       "      <td>0.0</td>\n",
       "    </tr>\n",
       "  </tbody>\n",
       "</table>\n",
       "</div>"
      ],
      "text/plain": [
       "   YEAR MONTH       DATE       T2M   T2M_MAX   T2M_MIN      RH2M  \\\n",
       "0  2000   Jan 2000-01-01  0.175945  0.238041  0.097703  0.368516   \n",
       "1  2000   Feb 2000-02-01  0.304780  0.359420  0.217343  0.155952   \n",
       "2  2000   Mar 2000-03-01  0.622313  0.666761  0.511157  0.228480   \n",
       "3  2000   Apr 2000-04-01  0.850139  0.806674  0.826912  0.487631   \n",
       "4  2000   May 2000-05-01  0.792920  0.598348  0.890156  0.782821   \n",
       "\n",
       "   PRECIPITATION        PS   GWETTOP  CASES  \n",
       "0       0.010442  0.849060  0.269382    0.0  \n",
       "1       0.023856  0.791056  0.171602    0.0  \n",
       "2       0.077393  0.591510  0.156035    0.0  \n",
       "3       0.160485  0.361156  0.165587    0.0  \n",
       "4       0.410897  0.273694  0.508342    0.0  "
      ]
     },
     "execution_count": 16,
     "metadata": {},
     "output_type": "execute_result"
    }
   ],
   "source": [
    "process_df = df_normalized[['YEAR', 'MONTH', 'DATE', 'T2M', 'T2M_MAX', 'T2M_MIN', 'RH2M',\n",
    "       'PRECIPITATION', 'PS', 'GWETTOP', 'CASES']]\n",
    "process_df.head()"
   ]
  },
  {
   "cell_type": "code",
   "execution_count": 15,
   "id": "e644800a-cd86-49ab-bdfe-8cccf0ad1b48",
   "metadata": {},
   "outputs": [
    {
     "data": {
      "text/plain": [
       "Index(['YEAR', 'MONTH', 'DATE', 'T2M', 'T2M_MAX', 'T2M_MIN', 'RH2M',\n",
       "       'PRECIPITATION', 'PS', 'GWETTOP', 'CASES'],\n",
       "      dtype='object')"
      ]
     },
     "execution_count": 15,
     "metadata": {},
     "output_type": "execute_result"
    }
   ],
   "source": [
    "df_normalized.columns"
   ]
  },
  {
   "cell_type": "code",
   "execution_count": 17,
   "id": "a6ed4314-f1ab-4504-b97e-877959f7f138",
   "metadata": {},
   "outputs": [
    {
     "data": {
      "text/html": [
       "<div>\n",
       "<style scoped>\n",
       "    .dataframe tbody tr th:only-of-type {\n",
       "        vertical-align: middle;\n",
       "    }\n",
       "\n",
       "    .dataframe tbody tr th {\n",
       "        vertical-align: top;\n",
       "    }\n",
       "\n",
       "    .dataframe thead th {\n",
       "        text-align: right;\n",
       "    }\n",
       "</style>\n",
       "<table border=\"1\" class=\"dataframe\">\n",
       "  <thead>\n",
       "    <tr style=\"text-align: right;\">\n",
       "      <th></th>\n",
       "      <th>YEAR</th>\n",
       "      <th>CASES</th>\n",
       "    </tr>\n",
       "  </thead>\n",
       "  <tbody>\n",
       "    <tr>\n",
       "      <th>0</th>\n",
       "      <td>2000</td>\n",
       "      <td>0.0</td>\n",
       "    </tr>\n",
       "    <tr>\n",
       "      <th>1</th>\n",
       "      <td>2001</td>\n",
       "      <td>0.0</td>\n",
       "    </tr>\n",
       "    <tr>\n",
       "      <th>2</th>\n",
       "      <td>2002</td>\n",
       "      <td>0.0</td>\n",
       "    </tr>\n",
       "    <tr>\n",
       "      <th>3</th>\n",
       "      <td>2003</td>\n",
       "      <td>0.0</td>\n",
       "    </tr>\n",
       "    <tr>\n",
       "      <th>4</th>\n",
       "      <td>2004</td>\n",
       "      <td>0.0</td>\n",
       "    </tr>\n",
       "  </tbody>\n",
       "</table>\n",
       "</div>"
      ],
      "text/plain": [
       "   YEAR  CASES\n",
       "0  2000    0.0\n",
       "1  2001    0.0\n",
       "2  2002    0.0\n",
       "3  2003    0.0\n",
       "4  2004    0.0"
      ]
     },
     "execution_count": 17,
     "metadata": {},
     "output_type": "execute_result"
    }
   ],
   "source": [
    "# Grouping CASES data by year and summing the CASES counts\n",
    "patient_grouped_by_year = df.groupby(['YEAR'])['CASES'].sum().reset_index()\n",
    "patient_grouped_by_year.head()"
   ]
  },
  {
   "cell_type": "code",
   "execution_count": 20,
   "id": "62b0f6a4-57d8-4d96-bff8-4a740634e1e1",
   "metadata": {},
   "outputs": [
    {
     "data": {
      "image/png": "[encoded data removed]",
      "text/plain": [
       "<Figure size 640x480 with 1 Axes>"
      ]
     },
     "metadata": {},
     "output_type": "display_data"
    }
   ],
   "source": [
    "patient_grouped_by_year.plot(kind='bar',\n",
    "                     x='YEAR',\n",
    "                     y='CASES',\n",
    "                     title='Year vs. Cases',\n",
    "                     color='green')\n",
    "plt.show()"
   ]
  }
 ],
 "metadata": {
  "kernelspec": {
   "display_name": "Python 3 (ipykernel)",
   "language": "python",
   "name": "python3"
  },
  "language_info": {
   "codemirror_mode": {
    "name": "ipython",
    "version": 3
   },
   "file_extension": ".py",
   "mimetype": "text/x-python",
   "name": "python",
   "nbconvert_exporter": "python",
   "pygments_lexer": "ipython3",
   "version": "3.8.18"
  }
 },
 "nbformat": 4,
 "nbformat_minor": 5
}
