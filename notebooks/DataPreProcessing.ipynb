{
 "cells": [
  {
   "cell_type": "code",
   "execution_count": 61,
   "metadata": {},
   "outputs": [
    {
     "name": "stdout",
     "output_type": "stream",
     "text": [
      "Requirement already satisfied: pandas==2.2.1 in c:\\users\\dell\\.conda\\envs\\py312\\lib\\site-packages (2.2.1)\n",
      "Requirement already satisfied: numpy==1.26.4 in c:\\users\\dell\\.conda\\envs\\py312\\lib\\site-packages (1.26.4)\n",
      "Requirement already satisfied: pandasql==0.7.3 in c:\\users\\dell\\.conda\\envs\\py312\\lib\\site-packages (0.7.3)\n",
      "Requirement already satisfied: python-dateutil>=2.8.2 in c:\\users\\dell\\.conda\\envs\\py312\\lib\\site-packages (from pandas==2.2.1) (2.9.0)\n",
      "Requirement already satisfied: pytz>=2020.1 in c:\\users\\dell\\.conda\\envs\\py312\\lib\\site-packages (from pandas==2.2.1) (2024.1)\n",
      "Requirement already satisfied: tzdata>=2022.7 in c:\\users\\dell\\.conda\\envs\\py312\\lib\\site-packages (from pandas==2.2.1) (2024.1)\n",
      "Requirement already satisfied: sqlalchemy in c:\\users\\dell\\.conda\\envs\\py312\\lib\\site-packages (from pandasql==0.7.3) (2.0.29)\n",
      "Requirement already satisfied: six>=1.5 in c:\\users\\dell\\.conda\\envs\\py312\\lib\\site-packages (from python-dateutil>=2.8.2->pandas==2.2.1) (1.16.0)\n",
      "Requirement already satisfied: typing-extensions>=4.6.0 in c:\\users\\dell\\.conda\\envs\\py312\\lib\\site-packages (from sqlalchemy->pandasql==0.7.3) (4.10.0)\n",
      "Requirement already satisfied: greenlet!=0.4.17 in c:\\users\\dell\\.conda\\envs\\py312\\lib\\site-packages (from sqlalchemy->pandasql==0.7.3) (3.0.3)\n",
      "Note: you may need to restart the kernel to use updated packages.\n"
     ]
    }
   ],
   "source": [
    "# install the packages needed to do EDA\n",
    "%pip install pandas==2.2.1 numpy==1.26.4 pandasql==0.7.3"
   ]
  },
  {
   "cell_type": "markdown",
   "metadata": {},
   "source": [
    "#### loading the data into pandas dataframes"
   ]
  },
  {
   "cell_type": "code",
   "execution_count": 62,
   "metadata": {},
   "outputs": [],
   "source": [
    "# import the the data from the csv files\n",
    "import pandas as pd\n",
    "import numpy as np\n",
    "\n",
    "# read the data from the csv files\n",
    "humidity_df = pd.read_csv('Data/Preprocessed Data/humidity_data.csv')\n",
    "rainfall_df = pd.read_csv('Data/Preprocessed Data/rainfall_data.csv')\n",
    "temperature_df = pd.read_csv('Data/Preprocessed Data/temperature_data.csv')\n",
    "wind_speed_df = pd.read_csv('Data/Preprocessed Data/wind_data.csv')\n",
    "patient_df = pd.read_csv('Data/Preprocessed Data/patient_data.csv')"
   ]
  },
  {
   "cell_type": "markdown",
   "metadata": {},
   "source": [
    "## Patient Data Transformation"
   ]
  },
  {
   "cell_type": "code",
   "execution_count": 63,
   "metadata": {},
   "outputs": [
    {
     "data": {
      "text/html": [
       "<div>\n",
       "<style scoped>\n",
       "    .dataframe tbody tr th:only-of-type {\n",
       "        vertical-align: middle;\n",
       "    }\n",
       "\n",
       "    .dataframe tbody tr th {\n",
       "        vertical-align: top;\n",
       "    }\n",
       "\n",
       "    .dataframe thead th {\n",
       "        text-align: right;\n",
       "    }\n",
       "</style>\n",
       "<table border=\"1\" class=\"dataframe\">\n",
       "  <thead>\n",
       "    <tr style=\"text-align: right;\">\n",
       "      <th></th>\n",
       "      <th>year</th>\n",
       "      <th>week</th>\n",
       "      <th>Colombo_cases</th>\n",
       "      <th>Gampaha_cases</th>\n",
       "      <th>Kalutara_cases</th>\n",
       "      <th>Kandy_cases</th>\n",
       "      <th>Matale_cases</th>\n",
       "      <th>Nuwara_Eliya_cases</th>\n",
       "      <th>Galle_cases</th>\n",
       "      <th>Hambantota_cases</th>\n",
       "      <th>...</th>\n",
       "      <th>Trincomalee_cases</th>\n",
       "      <th>Kurunegala_cases</th>\n",
       "      <th>Puttalam_cases</th>\n",
       "      <th>Anuradhapura_cases</th>\n",
       "      <th>Polonnaruwa_cases</th>\n",
       "      <th>Badulla_cases</th>\n",
       "      <th>Monaragala_cases</th>\n",
       "      <th>Ratnapura_cases</th>\n",
       "      <th>Kegalle_cases</th>\n",
       "      <th>Kalmunai_cases</th>\n",
       "    </tr>\n",
       "  </thead>\n",
       "  <tbody>\n",
       "    <tr>\n",
       "      <th>0</th>\n",
       "      <td>2007</td>\n",
       "      <td>1</td>\n",
       "      <td>71</td>\n",
       "      <td>12</td>\n",
       "      <td>12</td>\n",
       "      <td>20</td>\n",
       "      <td>4</td>\n",
       "      <td>1.0</td>\n",
       "      <td>1</td>\n",
       "      <td>1</td>\n",
       "      <td>...</td>\n",
       "      <td>0</td>\n",
       "      <td>16</td>\n",
       "      <td>6</td>\n",
       "      <td>4.0</td>\n",
       "      <td>1</td>\n",
       "      <td>2</td>\n",
       "      <td>0.0</td>\n",
       "      <td>1</td>\n",
       "      <td>1</td>\n",
       "      <td>0</td>\n",
       "    </tr>\n",
       "    <tr>\n",
       "      <th>1</th>\n",
       "      <td>2008</td>\n",
       "      <td>1</td>\n",
       "      <td>40</td>\n",
       "      <td>30</td>\n",
       "      <td>16</td>\n",
       "      <td>6</td>\n",
       "      <td>3</td>\n",
       "      <td>0.0</td>\n",
       "      <td>1</td>\n",
       "      <td>4</td>\n",
       "      <td>...</td>\n",
       "      <td>1</td>\n",
       "      <td>18</td>\n",
       "      <td>31</td>\n",
       "      <td>18.0</td>\n",
       "      <td>1</td>\n",
       "      <td>5</td>\n",
       "      <td>3.0</td>\n",
       "      <td>4</td>\n",
       "      <td>0</td>\n",
       "      <td>0</td>\n",
       "    </tr>\n",
       "    <tr>\n",
       "      <th>2</th>\n",
       "      <td>2009</td>\n",
       "      <td>1</td>\n",
       "      <td>15</td>\n",
       "      <td>7</td>\n",
       "      <td>1</td>\n",
       "      <td>11</td>\n",
       "      <td>4</td>\n",
       "      <td>0.0</td>\n",
       "      <td>0</td>\n",
       "      <td>6</td>\n",
       "      <td>...</td>\n",
       "      <td>0</td>\n",
       "      <td>2</td>\n",
       "      <td>1</td>\n",
       "      <td>2.0</td>\n",
       "      <td>0</td>\n",
       "      <td>1</td>\n",
       "      <td>1.0</td>\n",
       "      <td>2</td>\n",
       "      <td>16</td>\n",
       "      <td>0</td>\n",
       "    </tr>\n",
       "    <tr>\n",
       "      <th>3</th>\n",
       "      <td>2012</td>\n",
       "      <td>1</td>\n",
       "      <td>207</td>\n",
       "      <td>43</td>\n",
       "      <td>21</td>\n",
       "      <td>58</td>\n",
       "      <td>9</td>\n",
       "      <td>0.0</td>\n",
       "      <td>24</td>\n",
       "      <td>7</td>\n",
       "      <td>...</td>\n",
       "      <td>3</td>\n",
       "      <td>35</td>\n",
       "      <td>21</td>\n",
       "      <td>5.0</td>\n",
       "      <td>4</td>\n",
       "      <td>5</td>\n",
       "      <td>6.0</td>\n",
       "      <td>27</td>\n",
       "      <td>23</td>\n",
       "      <td>15</td>\n",
       "    </tr>\n",
       "    <tr>\n",
       "      <th>4</th>\n",
       "      <td>2013</td>\n",
       "      <td>1</td>\n",
       "      <td>95</td>\n",
       "      <td>82</td>\n",
       "      <td>10</td>\n",
       "      <td>15</td>\n",
       "      <td>5</td>\n",
       "      <td>4.0</td>\n",
       "      <td>6</td>\n",
       "      <td>7</td>\n",
       "      <td>...</td>\n",
       "      <td>2</td>\n",
       "      <td>52</td>\n",
       "      <td>15</td>\n",
       "      <td>22.0</td>\n",
       "      <td>1</td>\n",
       "      <td>12</td>\n",
       "      <td>6.0</td>\n",
       "      <td>8</td>\n",
       "      <td>28</td>\n",
       "      <td>6</td>\n",
       "    </tr>\n",
       "    <tr>\n",
       "      <th>5</th>\n",
       "      <td>2014</td>\n",
       "      <td>1</td>\n",
       "      <td>329</td>\n",
       "      <td>44</td>\n",
       "      <td>19</td>\n",
       "      <td>22</td>\n",
       "      <td>10</td>\n",
       "      <td>2.0</td>\n",
       "      <td>27</td>\n",
       "      <td>5</td>\n",
       "      <td>...</td>\n",
       "      <td>5</td>\n",
       "      <td>17</td>\n",
       "      <td>15</td>\n",
       "      <td>14.0</td>\n",
       "      <td>7</td>\n",
       "      <td>9</td>\n",
       "      <td>3.0</td>\n",
       "      <td>10</td>\n",
       "      <td>18</td>\n",
       "      <td>0</td>\n",
       "    </tr>\n",
       "    <tr>\n",
       "      <th>6</th>\n",
       "      <td>2015</td>\n",
       "      <td>1</td>\n",
       "      <td>311</td>\n",
       "      <td>160</td>\n",
       "      <td>31</td>\n",
       "      <td>94</td>\n",
       "      <td>23</td>\n",
       "      <td>7.0</td>\n",
       "      <td>30</td>\n",
       "      <td>12</td>\n",
       "      <td>...</td>\n",
       "      <td>17</td>\n",
       "      <td>43</td>\n",
       "      <td>41</td>\n",
       "      <td>22.0</td>\n",
       "      <td>6</td>\n",
       "      <td>54</td>\n",
       "      <td>2.0</td>\n",
       "      <td>20</td>\n",
       "      <td>19</td>\n",
       "      <td>63</td>\n",
       "    </tr>\n",
       "    <tr>\n",
       "      <th>7</th>\n",
       "      <td>2016</td>\n",
       "      <td>1</td>\n",
       "      <td>142</td>\n",
       "      <td>8</td>\n",
       "      <td>20</td>\n",
       "      <td>32</td>\n",
       "      <td>1</td>\n",
       "      <td>8.0</td>\n",
       "      <td>16</td>\n",
       "      <td>6</td>\n",
       "      <td>...</td>\n",
       "      <td>11</td>\n",
       "      <td>9</td>\n",
       "      <td>3</td>\n",
       "      <td>1.0</td>\n",
       "      <td>2</td>\n",
       "      <td>6</td>\n",
       "      <td>2.0</td>\n",
       "      <td>9</td>\n",
       "      <td>10</td>\n",
       "      <td>11</td>\n",
       "    </tr>\n",
       "    <tr>\n",
       "      <th>8</th>\n",
       "      <td>2017</td>\n",
       "      <td>1</td>\n",
       "      <td>511</td>\n",
       "      <td>137</td>\n",
       "      <td>88</td>\n",
       "      <td>66</td>\n",
       "      <td>25</td>\n",
       "      <td>12.0</td>\n",
       "      <td>176</td>\n",
       "      <td>31</td>\n",
       "      <td>...</td>\n",
       "      <td>22</td>\n",
       "      <td>80</td>\n",
       "      <td>18</td>\n",
       "      <td>16.0</td>\n",
       "      <td>11</td>\n",
       "      <td>40</td>\n",
       "      <td>21.0</td>\n",
       "      <td>63</td>\n",
       "      <td>34</td>\n",
       "      <td>90</td>\n",
       "    </tr>\n",
       "    <tr>\n",
       "      <th>9</th>\n",
       "      <td>2018</td>\n",
       "      <td>1</td>\n",
       "      <td>290</td>\n",
       "      <td>184</td>\n",
       "      <td>101</td>\n",
       "      <td>127</td>\n",
       "      <td>36</td>\n",
       "      <td>5.0</td>\n",
       "      <td>54</td>\n",
       "      <td>35</td>\n",
       "      <td>...</td>\n",
       "      <td>25</td>\n",
       "      <td>87</td>\n",
       "      <td>200</td>\n",
       "      <td>26.0</td>\n",
       "      <td>9</td>\n",
       "      <td>23</td>\n",
       "      <td>47.0</td>\n",
       "      <td>49</td>\n",
       "      <td>47</td>\n",
       "      <td>153</td>\n",
       "    </tr>\n",
       "  </tbody>\n",
       "</table>\n",
       "<p>10 rows × 28 columns</p>\n",
       "</div>"
      ],
      "text/plain": [
       "   year  week  Colombo_cases  Gampaha_cases  Kalutara_cases  Kandy_cases  \\\n",
       "0  2007     1             71             12              12           20   \n",
       "1  2008     1             40             30              16            6   \n",
       "2  2009     1             15              7               1           11   \n",
       "3  2012     1            207             43              21           58   \n",
       "4  2013     1             95             82              10           15   \n",
       "5  2014     1            329             44              19           22   \n",
       "6  2015     1            311            160              31           94   \n",
       "7  2016     1            142              8              20           32   \n",
       "8  2017     1            511            137              88           66   \n",
       "9  2018     1            290            184             101          127   \n",
       "\n",
       "   Matale_cases  Nuwara_Eliya_cases  Galle_cases  Hambantota_cases  ...  \\\n",
       "0             4                 1.0            1                 1  ...   \n",
       "1             3                 0.0            1                 4  ...   \n",
       "2             4                 0.0            0                 6  ...   \n",
       "3             9                 0.0           24                 7  ...   \n",
       "4             5                 4.0            6                 7  ...   \n",
       "5            10                 2.0           27                 5  ...   \n",
       "6            23                 7.0           30                12  ...   \n",
       "7             1                 8.0           16                 6  ...   \n",
       "8            25                12.0          176                31  ...   \n",
       "9            36                 5.0           54                35  ...   \n",
       "\n",
       "   Trincomalee_cases  Kurunegala_cases  Puttalam_cases  Anuradhapura_cases  \\\n",
       "0                  0                16               6                 4.0   \n",
       "1                  1                18              31                18.0   \n",
       "2                  0                 2               1                 2.0   \n",
       "3                  3                35              21                 5.0   \n",
       "4                  2                52              15                22.0   \n",
       "5                  5                17              15                14.0   \n",
       "6                 17                43              41                22.0   \n",
       "7                 11                 9               3                 1.0   \n",
       "8                 22                80              18                16.0   \n",
       "9                 25                87             200                26.0   \n",
       "\n",
       "   Polonnaruwa_cases  Badulla_cases  Monaragala_cases  Ratnapura_cases  \\\n",
       "0                  1              2               0.0                1   \n",
       "1                  1              5               3.0                4   \n",
       "2                  0              1               1.0                2   \n",
       "3                  4              5               6.0               27   \n",
       "4                  1             12               6.0                8   \n",
       "5                  7              9               3.0               10   \n",
       "6                  6             54               2.0               20   \n",
       "7                  2              6               2.0                9   \n",
       "8                 11             40              21.0               63   \n",
       "9                  9             23              47.0               49   \n",
       "\n",
       "   Kegalle_cases  Kalmunai_cases  \n",
       "0              1               0  \n",
       "1              0               0  \n",
       "2             16               0  \n",
       "3             23              15  \n",
       "4             28               6  \n",
       "5             18               0  \n",
       "6             19              63  \n",
       "7             10              11  \n",
       "8             34              90  \n",
       "9             47             153  \n",
       "\n",
       "[10 rows x 28 columns]"
      ]
     },
     "execution_count": 63,
     "metadata": {},
     "output_type": "execute_result"
    }
   ],
   "source": [
    "patient_df.head(10)  "
   ]
  },
  {
   "cell_type": "markdown",
   "metadata": {},
   "source": [
    "#### Date value related transformations for the dataframes"
   ]
  },
  {
   "cell_type": "markdown",
   "metadata": {},
   "source": [
    "##### Convert Weekly patients data into monthly data"
   ]
  },
  {
   "cell_type": "code",
   "execution_count": 64,
   "metadata": {},
   "outputs": [],
   "source": [
    "# convert humidity data month from numbers to names as Jan, Feb, Mar, etc\n",
    "import calendar\n",
    "\n",
    "humidity_df['Month'] = humidity_df['Month'].apply(lambda x: calendar.month_abbr[x])"
   ]
  },
  {
   "cell_type": "code",
   "execution_count": 65,
   "metadata": {},
   "outputs": [
    {
     "name": "stdout",
     "output_type": "stream",
     "text": [
      "['Apr' 'Aug' 'Dec' 'Feb' 'Jan' 'Jul' 'Jun' 'Mar' 'May' 'Nov' 'Oct' 'Sep']\n"
     ]
    }
   ],
   "source": [
    "# check unique values in the patient data\n",
    "months = humidity_df.Month.unique()\n",
    "print(np.sort(months))"
   ]
  },
  {
   "cell_type": "code",
   "execution_count": 66,
   "metadata": {},
   "outputs": [],
   "source": [
    "# add new column to the patient data to indicate the exact data using year and week number\n",
    "patient_df['Date'] = pd.to_datetime(patient_df['year'].astype(str) + ' ' + patient_df['week'].astype(str) + ' 1', format='%Y %W %w')"
   ]
  },
  {
   "cell_type": "code",
   "execution_count": 67,
   "metadata": {},
   "outputs": [
    {
     "data": {
      "text/plain": [
       "0     2007-01-01\n",
       "15    2007-01-08\n",
       "33    2007-01-15\n",
       "51    2007-01-22\n",
       "69    2007-01-29\n",
       "87    2007-02-05\n",
       "104   2007-02-12\n",
       "121   2007-02-19\n",
       "138   2007-02-26\n",
       "155   2007-03-05\n",
       "Name: Date, dtype: datetime64[ns]"
      ]
     },
     "execution_count": 67,
     "metadata": {},
     "output_type": "execute_result"
    }
   ],
   "source": [
    "patient_df.sort_values(by=\"Date\").Date.head(10)"
   ]
  },
  {
   "cell_type": "code",
   "execution_count": 68,
   "metadata": {},
   "outputs": [],
   "source": [
    "# drop the week column from the patient data\n",
    "patient_df.drop('week', axis=1, inplace=True)"
   ]
  },
  {
   "cell_type": "code",
   "execution_count": 69,
   "metadata": {},
   "outputs": [
    {
     "name": "stdout",
     "output_type": "stream",
     "text": [
      "[2007 2008 2009 2010 2011 2012 2013 2014 2015 2016 2017 2018 2019 2020\n",
      " 2021 2022 2023 2024]\n"
     ]
    }
   ],
   "source": [
    "# check unique values in the patient data\n",
    "years = patient_df.year.unique()\n",
    "print(np.sort(years))\n",
    "# 2013, 2015, 2021"
   ]
  },
  {
   "cell_type": "code",
   "execution_count": 70,
   "metadata": {},
   "outputs": [],
   "source": [
    "# aggregate the patient data to get the total number of patients per month using date column\n",
    "patient_df = patient_df.resample('ME', on='Date').sum()"
   ]
  },
  {
   "cell_type": "code",
   "execution_count": 71,
   "metadata": {},
   "outputs": [],
   "source": [
    "patient_df.drop('year', axis=1, inplace=True)"
   ]
  },
  {
   "cell_type": "code",
   "execution_count": 72,
   "metadata": {},
   "outputs": [
    {
     "name": "stdout",
     "output_type": "stream",
     "text": [
      "            Colombo_cases  Gampaha_cases  Kalutara_cases  Kandy_cases  \\\n",
      "Date                                                                    \n",
      "2007-01-31            244             64              60          120   \n",
      "2007-02-28            175             44              30           36   \n",
      "2007-03-31             61             26              22           21   \n",
      "2007-04-30             35             16              12           16   \n",
      "2007-05-31             44             17              13            7   \n",
      "2007-06-30            102             35              22           20   \n",
      "2007-07-31            163             37              39           29   \n",
      "2007-08-31            128             50              33           21   \n",
      "2007-09-30            158             78              46           18   \n",
      "2007-10-31            178             85              23           29   \n",
      "2007-11-30            195            136              55           29   \n",
      "2007-12-31            239            129              40           25   \n",
      "2008-01-31            156            122              46           19   \n",
      "2008-02-29            147             76              63           17   \n",
      "2008-03-31            137             69              50           29   \n",
      "2008-04-30            135             75              36           15   \n",
      "2008-05-31            163             69              46           15   \n",
      "2008-06-30            126             69              51           22   \n",
      "2008-07-31             96             46              24           19   \n",
      "2008-08-31            145             62              29           30   \n",
      "\n",
      "            Matale_cases  Nuwara_Eliya_cases  Galle_cases  Hambantota_cases  \\\n",
      "Date                                                                          \n",
      "2007-01-31            24                12.0           22                 6   \n",
      "2007-02-28            10                 1.0           12                 6   \n",
      "2007-03-31             4                 1.0            4                 5   \n",
      "2007-04-30             1                 0.0            1                 6   \n",
      "2007-05-31             2                 7.0            2                 2   \n",
      "2007-06-30             3                 1.0            4                 3   \n",
      "2007-07-31             5                 4.0            6                 5   \n",
      "2007-08-31             8                 1.0            7                 8   \n",
      "2007-09-30             4                 4.0            9                14   \n",
      "2007-10-31             6                 1.0            7                10   \n",
      "2007-11-30             7                 1.0            6                16   \n",
      "2007-12-31            16                 4.0            9                 8   \n",
      "2008-01-31             9                 0.0           16                 9   \n",
      "2008-02-29             6                 3.0            7                22   \n",
      "2008-03-31            11                 1.0           12                10   \n",
      "2008-04-30            11                 1.0            4                 6   \n",
      "2008-05-31             8                 5.0           11                 3   \n",
      "2008-06-30             7                 3.0            8                 4   \n",
      "2008-07-31             9                 1.0            5                 7   \n",
      "2008-08-31             8                 5.0           14                 8   \n",
      "\n",
      "            Matara_cases  Jaffna_cases  ...  Trincomalee_cases  \\\n",
      "Date                                    ...                      \n",
      "2007-01-31            35             0  ...                  7   \n",
      "2007-02-28            12             0  ...                  3   \n",
      "2007-03-31             8             0  ...                  5   \n",
      "2007-04-30             9             0  ...                  4   \n",
      "2007-05-31             8             0  ...                  1   \n",
      "2007-06-30             9             0  ...                  4   \n",
      "2007-07-31            17             0  ...                  7   \n",
      "2007-08-31            10             0  ...                  2   \n",
      "2007-09-30            21             4  ...                  0   \n",
      "2007-10-31            31            58  ...                  0   \n",
      "2007-11-30            38            31  ...                  4   \n",
      "2007-12-31            30            19  ...                  2   \n",
      "2008-01-31            26             7  ...                  5   \n",
      "2008-02-29            22             1  ...                 49   \n",
      "2008-03-31            26             2  ...                 50   \n",
      "2008-04-30            17             4  ...                 24   \n",
      "2008-05-31            20             3  ...                  9   \n",
      "2008-06-30            25             3  ...                  9   \n",
      "2008-07-31            28             0  ...                  1   \n",
      "2008-08-31            35             0  ...                  3   \n",
      "\n",
      "            Kurunegala_cases  Puttalam_cases  Anuradhapura_cases  \\\n",
      "Date                                                               \n",
      "2007-01-31                60              47                 6.0   \n",
      "2007-02-28                20              11                 5.0   \n",
      "2007-03-31                25               5                 4.0   \n",
      "2007-04-30                22               3                 4.0   \n",
      "2007-05-31                12               5                 8.0   \n",
      "2007-06-30                41               6                28.0   \n",
      "2007-07-31               114               6                48.0   \n",
      "2007-08-31                52              10                 5.0   \n",
      "2007-09-30                76              11                22.0   \n",
      "2007-10-31                84              28                22.0   \n",
      "2007-11-30                78              64                17.0   \n",
      "2007-12-31                78             119                40.0   \n",
      "2008-01-31                61              61                43.0   \n",
      "2008-02-29                27              30                17.0   \n",
      "2008-03-31                33              75                26.0   \n",
      "2008-04-30                33              36                 9.0   \n",
      "2008-05-31                14              29                12.0   \n",
      "2008-06-30                25              22                 0.0   \n",
      "2008-07-31                 9              10                 1.0   \n",
      "2008-08-31                22               6                 0.0   \n",
      "\n",
      "            Polonnaruwa_cases  Badulla_cases  Monaragala_cases  \\\n",
      "Date                                                             \n",
      "2007-01-31                  9              7               5.0   \n",
      "2007-02-28                  4              3               0.0   \n",
      "2007-03-31                  3              4               1.0   \n",
      "2007-04-30                 10              1               0.0   \n",
      "2007-05-31                  0              3               3.0   \n",
      "2007-06-30                  6              2               1.0   \n",
      "2007-07-31                  2              8               6.0   \n",
      "2007-08-31                  5              6               9.0   \n",
      "2007-09-30                  4             12               8.0   \n",
      "2007-10-31                  4             12               4.0   \n",
      "2007-11-30                  5              6               5.0   \n",
      "2007-12-31                  5             12               7.0   \n",
      "2008-01-31                 11             11               4.0   \n",
      "2008-02-29                  7              5               5.0   \n",
      "2008-03-31                  8              3               6.0   \n",
      "2008-04-30                  7              7               3.0   \n",
      "2008-05-31                  8             12              10.0   \n",
      "2008-06-30                  8              4               4.0   \n",
      "2008-07-31                  5             10               2.0   \n",
      "2008-08-31                  1              8               4.0   \n",
      "\n",
      "            Ratnapura_cases  Kegalle_cases  Kalmunai_cases  \n",
      "Date                                                        \n",
      "2007-01-31               13             33               0  \n",
      "2007-02-28               11              9               0  \n",
      "2007-03-31               14             13               0  \n",
      "2007-04-30                6              5               0  \n",
      "2007-05-31               12             12               0  \n",
      "2007-06-30               16             33               1  \n",
      "2007-07-31               47             19               0  \n",
      "2007-08-31               42             18               0  \n",
      "2007-09-30               38             29               0  \n",
      "2007-10-31               45             78               0  \n",
      "2007-11-30               26             36               1  \n",
      "2007-12-31               31             37               1  \n",
      "2008-01-31               15             24               0  \n",
      "2008-02-29               25             17               2  \n",
      "2008-03-31               13             39               2  \n",
      "2008-04-30                6             38              10  \n",
      "2008-05-31               12             40               3  \n",
      "2008-06-30               14             61               8  \n",
      "2008-07-31               55             34               0  \n",
      "2008-08-31               17             33               3  \n",
      "\n",
      "[20 rows x 26 columns]\n"
     ]
    }
   ],
   "source": [
    "print(patient_df.head(20))"
   ]
  },
  {
   "cell_type": "code",
   "execution_count": 73,
   "metadata": {},
   "outputs": [],
   "source": [
    "# break down the date column into year, month\n",
    "patient_df['Year'] = patient_df.index.year\n",
    "patient_df['Month'] = patient_df.index.month\n",
    "patient_df['Month'] = patient_df['Month'].apply(lambda x: calendar.month_abbr[x])"
   ]
  },
  {
   "cell_type": "code",
   "execution_count": 74,
   "metadata": {},
   "outputs": [
    {
     "name": "stdout",
     "output_type": "stream",
     "text": [
      "Date\n",
      "2007-01-31    2007\n",
      "2007-02-28    2007\n",
      "2007-03-31    2007\n",
      "2007-04-30    2007\n",
      "2007-05-31    2007\n",
      "2007-06-30    2007\n",
      "2007-07-31    2007\n",
      "2007-08-31    2007\n",
      "2007-09-30    2007\n",
      "2007-10-31    2007\n",
      "2007-11-30    2007\n",
      "2007-12-31    2007\n",
      "2008-01-31    2008\n",
      "2008-02-29    2008\n",
      "2008-03-31    2008\n",
      "2008-04-30    2008\n",
      "2008-05-31    2008\n",
      "2008-06-30    2008\n",
      "2008-07-31    2008\n",
      "2008-08-31    2008\n",
      "Freq: ME, Name: Year, dtype: int32\n"
     ]
    }
   ],
   "source": [
    "print(patient_df['Year'].head(20))"
   ]
  },
  {
   "cell_type": "code",
   "execution_count": 75,
   "metadata": {},
   "outputs": [
    {
     "name": "stdout",
     "output_type": "stream",
     "text": [
      "Index(['Colombo_cases', 'Gampaha_cases', 'Kalutara_cases', 'Kandy_cases',\n",
      "       'Matale_cases', 'Nuwara_Eliya_cases', 'Galle_cases', 'Hambantota_cases',\n",
      "       'Matara_cases', 'Jaffna_cases', 'Kilinochchi_cases', 'Mannar_cases',\n",
      "       'Vavuniya_cases', 'Mullaitivu_cases', 'Batticaloa_cases',\n",
      "       'Ampara_cases', 'Trincomalee_cases', 'Kurunegala_cases',\n",
      "       'Puttalam_cases', 'Anuradhapura_cases', 'Polonnaruwa_cases',\n",
      "       'Badulla_cases', 'Monaragala_cases', 'Ratnapura_cases', 'Kegalle_cases',\n",
      "       'Kalmunai_cases', 'Year', 'Month'],\n",
      "      dtype='object')\n"
     ]
    }
   ],
   "source": [
    "print(patient_df.columns)"
   ]
  },
  {
   "cell_type": "code",
   "execution_count": 76,
   "metadata": {},
   "outputs": [],
   "source": [
    "final_patient_df = patient_df.melt(id_vars=['Year', 'Month'], var_name='station_name', value_name='patients')"
   ]
  },
  {
   "cell_type": "code",
   "execution_count": 77,
   "metadata": {},
   "outputs": [],
   "source": [
    "# patient_df.to_csv(\"Data/Preprocessed Data/column_patient_count.csv\", index=None)\n",
    "final_patient_df.to_csv(\"Data/Preprocessed Data/extracted_patient_data.csv\", index=None)"
   ]
  },
  {
   "cell_type": "code",
   "execution_count": 78,
   "metadata": {},
   "outputs": [],
   "source": [
    "final_patient_df = final_patient_df[\n",
    "       final_patient_df[\"station_name\"].isin([\n",
    "              \"Colombo_cases\",\n",
    "              \"Gampaha_cases\",\n",
    "              \"Kandy_cases\",\n",
    "              \"Galle_cases\",\n",
    "              \"Jaffna_cases\",\n",
    "              \"Batticaloa_cases\",\n",
    "              \"Kurunegala_cases\",\n",
    "              \"Puttalam_cases\",\n",
    "              \"Ratnapura_cases\",\n",
    "       ])\n",
    "]"
   ]
  },
  {
   "cell_type": "code",
   "execution_count": 79,
   "metadata": {},
   "outputs": [],
   "source": [
    "# replace the station names with the actual names\n",
    "final_patient_df[\"station_name\"] = final_patient_df[\"station_name\"].str.replace(\"_cases\", \"\")"
   ]
  },
  {
   "cell_type": "code",
   "execution_count": 80,
   "metadata": {},
   "outputs": [
    {
     "data": {
      "text/plain": [
       "array(['Colombo', 'Gampaha', 'Kandy', 'Galle', 'Jaffna', 'Batticaloa',\n",
       "       'Kurunegala', 'Puttalam', 'Ratnapura'], dtype=object)"
      ]
     },
     "execution_count": 80,
     "metadata": {},
     "output_type": "execute_result"
    }
   ],
   "source": [
    "final_patient_df.station_name.unique()  # check the unique values in the station_name column"
   ]
  },
  {
   "cell_type": "code",
   "execution_count": 81,
   "metadata": {},
   "outputs": [
    {
     "name": "stdout",
     "output_type": "stream",
     "text": [
      "   Year Month station_name  patients\n",
      "0  2007   Jan      Colombo     244.0\n",
      "1  2007   Feb      Colombo     175.0\n",
      "2  2007   Mar      Colombo      61.0\n",
      "3  2007   Apr      Colombo      35.0\n",
      "4  2007   May      Colombo      44.0\n",
      "5  2007   Jun      Colombo     102.0\n",
      "6  2007   Jul      Colombo     163.0\n",
      "7  2007   Aug      Colombo     128.0\n",
      "8  2007   Sep      Colombo     158.0\n",
      "9  2007   Oct      Colombo     178.0\n"
     ]
    }
   ],
   "source": [
    "print(final_patient_df.head(10))"
   ]
  },
  {
   "cell_type": "code",
   "execution_count": 82,
   "metadata": {},
   "outputs": [],
   "source": [
    "# store the final patient data in a csv file\n",
    "final_patient_df.to_csv(\"Data/Preprocessed Data/final_patient_data.csv\", index=None)"
   ]
  },
  {
   "cell_type": "markdown",
   "metadata": {},
   "source": [
    "## Weather Data Preprocessing"
   ]
  },
  {
   "cell_type": "markdown",
   "metadata": {},
   "source": [
    "#### Column naming related transformations for the dataframes"
   ]
  },
  {
   "cell_type": "code",
   "execution_count": 83,
   "metadata": {},
   "outputs": [],
   "source": [
    "rainfall_df.rename(columns={'yyyy': 'Year','month':'Month','value':'precipitation'}, inplace=True)\n",
    "humidity_df.rename(columns={'Station_Name': 'station_name','Data_Value':'humidity'}, inplace=True)\n",
    "wind_speed_df.rename(columns={'Data1': 'wind_speed_8_30am','Data2':'wind_speed_17_30pm'}, inplace=True)"
   ]
  },
  {
   "cell_type": "code",
   "execution_count": 84,
   "metadata": {},
   "outputs": [],
   "source": [
    "# drop the code and abbreviation columns from the rainfall data\n",
    "rainfall_df.drop(['code', 'abbreviation'], axis=1, inplace=True)"
   ]
  },
  {
   "cell_type": "code",
   "execution_count": 85,
   "metadata": {},
   "outputs": [
    {
     "data": {
      "text/html": [
       "<div>\n",
       "<style scoped>\n",
       "    .dataframe tbody tr th:only-of-type {\n",
       "        vertical-align: middle;\n",
       "    }\n",
       "\n",
       "    .dataframe tbody tr th {\n",
       "        vertical-align: top;\n",
       "    }\n",
       "\n",
       "    .dataframe thead th {\n",
       "        text-align: right;\n",
       "    }\n",
       "</style>\n",
       "<table border=\"1\" class=\"dataframe\">\n",
       "  <thead>\n",
       "    <tr style=\"text-align: right;\">\n",
       "      <th></th>\n",
       "      <th>station_name</th>\n",
       "      <th>elevation</th>\n",
       "      <th>Year</th>\n",
       "      <th>Month</th>\n",
       "      <th>precipitation</th>\n",
       "    </tr>\n",
       "  </thead>\n",
       "  <tbody>\n",
       "    <tr>\n",
       "      <th>0</th>\n",
       "      <td>GALLE</td>\n",
       "      <td>12</td>\n",
       "      <td>2007</td>\n",
       "      <td>Jan</td>\n",
       "      <td>78.200000</td>\n",
       "    </tr>\n",
       "    <tr>\n",
       "      <th>1</th>\n",
       "      <td>GALLE</td>\n",
       "      <td>12</td>\n",
       "      <td>2008</td>\n",
       "      <td>Jan</td>\n",
       "      <td>189.200001</td>\n",
       "    </tr>\n",
       "    <tr>\n",
       "      <th>2</th>\n",
       "      <td>GALLE</td>\n",
       "      <td>12</td>\n",
       "      <td>2009</td>\n",
       "      <td>Jan</td>\n",
       "      <td>8.100000</td>\n",
       "    </tr>\n",
       "    <tr>\n",
       "      <th>3</th>\n",
       "      <td>GALLE</td>\n",
       "      <td>12</td>\n",
       "      <td>2010</td>\n",
       "      <td>Jan</td>\n",
       "      <td>72.000001</td>\n",
       "    </tr>\n",
       "    <tr>\n",
       "      <th>4</th>\n",
       "      <td>GALLE</td>\n",
       "      <td>12</td>\n",
       "      <td>2011</td>\n",
       "      <td>Jan</td>\n",
       "      <td>178.999998</td>\n",
       "    </tr>\n",
       "    <tr>\n",
       "      <th>5</th>\n",
       "      <td>GALLE</td>\n",
       "      <td>12</td>\n",
       "      <td>2012</td>\n",
       "      <td>Jan</td>\n",
       "      <td>15.800000</td>\n",
       "    </tr>\n",
       "    <tr>\n",
       "      <th>6</th>\n",
       "      <td>GALLE</td>\n",
       "      <td>12</td>\n",
       "      <td>2013</td>\n",
       "      <td>Jan</td>\n",
       "      <td>64.599998</td>\n",
       "    </tr>\n",
       "    <tr>\n",
       "      <th>7</th>\n",
       "      <td>GALLE</td>\n",
       "      <td>12</td>\n",
       "      <td>2014</td>\n",
       "      <td>Jan</td>\n",
       "      <td>61.000001</td>\n",
       "    </tr>\n",
       "    <tr>\n",
       "      <th>8</th>\n",
       "      <td>GALLE</td>\n",
       "      <td>12</td>\n",
       "      <td>2015</td>\n",
       "      <td>Jan</td>\n",
       "      <td>68.300000</td>\n",
       "    </tr>\n",
       "    <tr>\n",
       "      <th>9</th>\n",
       "      <td>GALLE</td>\n",
       "      <td>12</td>\n",
       "      <td>2016</td>\n",
       "      <td>Jan</td>\n",
       "      <td>40.700001</td>\n",
       "    </tr>\n",
       "  </tbody>\n",
       "</table>\n",
       "</div>"
      ],
      "text/plain": [
       "  station_name  elevation  Year Month  precipitation\n",
       "0        GALLE         12  2007   Jan      78.200000\n",
       "1        GALLE         12  2008   Jan     189.200001\n",
       "2        GALLE         12  2009   Jan       8.100000\n",
       "3        GALLE         12  2010   Jan      72.000001\n",
       "4        GALLE         12  2011   Jan     178.999998\n",
       "5        GALLE         12  2012   Jan      15.800000\n",
       "6        GALLE         12  2013   Jan      64.599998\n",
       "7        GALLE         12  2014   Jan      61.000001\n",
       "8        GALLE         12  2015   Jan      68.300000\n",
       "9        GALLE         12  2016   Jan      40.700001"
      ]
     },
     "execution_count": 85,
     "metadata": {},
     "output_type": "execute_result"
    }
   ],
   "source": [
    "rainfall_df.head(10)"
   ]
  },
  {
   "cell_type": "code",
   "execution_count": 86,
   "metadata": {},
   "outputs": [
    {
     "data": {
      "text/html": [
       "<div>\n",
       "<style scoped>\n",
       "    .dataframe tbody tr th:only-of-type {\n",
       "        vertical-align: middle;\n",
       "    }\n",
       "\n",
       "    .dataframe tbody tr th {\n",
       "        vertical-align: top;\n",
       "    }\n",
       "\n",
       "    .dataframe thead th {\n",
       "        text-align: right;\n",
       "    }\n",
       "</style>\n",
       "<table border=\"1\" class=\"dataframe\">\n",
       "  <thead>\n",
       "    <tr style=\"text-align: right;\">\n",
       "      <th></th>\n",
       "      <th>station_name</th>\n",
       "      <th>Year</th>\n",
       "      <th>Month</th>\n",
       "      <th>TMPMAX</th>\n",
       "      <th>TMPMIN</th>\n",
       "    </tr>\n",
       "  </thead>\n",
       "  <tbody>\n",
       "    <tr>\n",
       "      <th>0</th>\n",
       "      <td>JAFFNA</td>\n",
       "      <td>2016</td>\n",
       "      <td>Apr</td>\n",
       "      <td>35.7</td>\n",
       "      <td>27.7</td>\n",
       "    </tr>\n",
       "    <tr>\n",
       "      <th>1</th>\n",
       "      <td>PUTTALAM</td>\n",
       "      <td>2015</td>\n",
       "      <td>Apr</td>\n",
       "      <td>32.5</td>\n",
       "      <td>19.1</td>\n",
       "    </tr>\n",
       "    <tr>\n",
       "      <th>2</th>\n",
       "      <td>KATUGASTOTA</td>\n",
       "      <td>2015</td>\n",
       "      <td>Apr</td>\n",
       "      <td>31.0</td>\n",
       "      <td>20.2</td>\n",
       "    </tr>\n",
       "    <tr>\n",
       "      <th>3</th>\n",
       "      <td>KURUNEGALA</td>\n",
       "      <td>2023</td>\n",
       "      <td>Apr</td>\n",
       "      <td>34.4</td>\n",
       "      <td>NaN</td>\n",
       "    </tr>\n",
       "    <tr>\n",
       "      <th>4</th>\n",
       "      <td>KATUGASTOTA</td>\n",
       "      <td>2017</td>\n",
       "      <td>Apr</td>\n",
       "      <td>31.8</td>\n",
       "      <td>NaN</td>\n",
       "    </tr>\n",
       "    <tr>\n",
       "      <th>5</th>\n",
       "      <td>KURUNEGALA</td>\n",
       "      <td>2012</td>\n",
       "      <td>Apr</td>\n",
       "      <td>33.0</td>\n",
       "      <td>23.0</td>\n",
       "    </tr>\n",
       "    <tr>\n",
       "      <th>6</th>\n",
       "      <td>KURUNEGALA</td>\n",
       "      <td>2022</td>\n",
       "      <td>Apr</td>\n",
       "      <td>33.2</td>\n",
       "      <td>24.0</td>\n",
       "    </tr>\n",
       "    <tr>\n",
       "      <th>7</th>\n",
       "      <td>KATUNAYAKA</td>\n",
       "      <td>2011</td>\n",
       "      <td>Apr</td>\n",
       "      <td>31.5</td>\n",
       "      <td>24.0</td>\n",
       "    </tr>\n",
       "    <tr>\n",
       "      <th>8</th>\n",
       "      <td>BATTICALOA</td>\n",
       "      <td>2008</td>\n",
       "      <td>Apr</td>\n",
       "      <td>32.3</td>\n",
       "      <td>25.0</td>\n",
       "    </tr>\n",
       "    <tr>\n",
       "      <th>9</th>\n",
       "      <td>KATUNAYAKA</td>\n",
       "      <td>2010</td>\n",
       "      <td>Apr</td>\n",
       "      <td>32.2</td>\n",
       "      <td>25.0</td>\n",
       "    </tr>\n",
       "  </tbody>\n",
       "</table>\n",
       "</div>"
      ],
      "text/plain": [
       "  station_name  Year Month  TMPMAX  TMPMIN\n",
       "0       JAFFNA  2016   Apr    35.7    27.7\n",
       "1     PUTTALAM  2015   Apr    32.5    19.1\n",
       "2  KATUGASTOTA  2015   Apr    31.0    20.2\n",
       "3   KURUNEGALA  2023   Apr    34.4     NaN\n",
       "4  KATUGASTOTA  2017   Apr    31.8     NaN\n",
       "5   KURUNEGALA  2012   Apr    33.0    23.0\n",
       "6   KURUNEGALA  2022   Apr    33.2    24.0\n",
       "7   KATUNAYAKA  2011   Apr    31.5    24.0\n",
       "8   BATTICALOA  2008   Apr    32.3    25.0\n",
       "9   KATUNAYAKA  2010   Apr    32.2    25.0"
      ]
     },
     "execution_count": 86,
     "metadata": {},
     "output_type": "execute_result"
    }
   ],
   "source": [
    "temperature_df.head(10)"
   ]
  },
  {
   "cell_type": "code",
   "execution_count": 87,
   "metadata": {},
   "outputs": [],
   "source": [
    "# remove the DEDIGAMA or ST.VINCENTS GROUP station_name data from the rainfall dataframe\n",
    "rainfall_df = rainfall_df[rainfall_df.station_name != 'DEDIGAMA' ]\n",
    "rainfall_df = rainfall_df[rainfall_df.station_name != 'ST.VINCENTS GROUP' ]"
   ]
  },
  {
   "cell_type": "code",
   "execution_count": 88,
   "metadata": {},
   "outputs": [
    {
     "name": "stdout",
     "output_type": "stream",
     "text": [
      "['BATTICALOA' 'COLOMBO' 'GALLE' 'JAFFNA' 'KATUGASTOTA' 'KATUNAYAKE'\n",
      " 'KURUNEGALA' 'PUTTALAM' 'RATNAPURA']\n"
     ]
    }
   ],
   "source": [
    "# station_names in wind_speed_df convert to all capital\n",
    "wind_speed_df['station_name'] = wind_speed_df['station_name'].str.upper()\n",
    "print(wind_speed_df.station_name.unique())"
   ]
  },
  {
   "cell_type": "code",
   "execution_count": 89,
   "metadata": {},
   "outputs": [],
   "source": [
    "# make sure station_name for KATUNAYAKE is consistent in all dataframes instead of KATUNAYAKA\n",
    "humidity_df['station_name'] = humidity_df['station_name'].replace('KATUNAYAKA', 'KATUNAYAKE')\n",
    "rainfall_df['station_name'] = rainfall_df['station_name'].replace('KATUNAYAKA', 'KATUNAYAKE')\n",
    "wind_speed_df['station_name'] = wind_speed_df['station_name'].replace('KATUNAYAKA', 'KATUNAYAKE')\n",
    "temperature_df['station_name'] = temperature_df['station_name'].replace('KATUNAYAKA', 'KATUNAYAKE')"
   ]
  },
  {
   "cell_type": "code",
   "execution_count": 90,
   "metadata": {},
   "outputs": [
    {
     "name": "stdout",
     "output_type": "stream",
     "text": [
      "['GALLE' 'JAFFNA' 'COLOMBO' 'PUTTALAM' 'RATNAPURA' 'BATTICALOA'\n",
      " 'KATUNAYAKE' 'KURUNEGALA' 'KATUGASTOTA']\n"
     ]
    }
   ],
   "source": [
    "# check unique stations\n",
    "humidity_stations = humidity_df.station_name.unique()\n",
    "print(humidity_stations)"
   ]
  },
  {
   "cell_type": "code",
   "execution_count": 91,
   "metadata": {},
   "outputs": [
    {
     "name": "stdout",
     "output_type": "stream",
     "text": [
      "['JAFFNA' 'PUTTALAM' 'KATUGASTOTA' 'KURUNEGALA' 'KATUNAYAKE' 'BATTICALOA'\n",
      " 'COLOMBO' 'GALLE' 'RATNAPURA']\n"
     ]
    }
   ],
   "source": [
    "# check unique stations\n",
    "temperature_stations = temperature_df.station_name.unique()\n",
    "print(temperature_stations)"
   ]
  },
  {
   "cell_type": "code",
   "execution_count": 92,
   "metadata": {},
   "outputs": [
    {
     "name": "stdout",
     "output_type": "stream",
     "text": [
      "['GALLE' 'JAFFNA' 'COLOMBO' 'PUTTALAM' 'RATNAPURA' 'BATTICALOA'\n",
      " 'KATUNAYAKE' 'KURUNEGALA' 'KATUGASTOTA']\n"
     ]
    }
   ],
   "source": [
    "# check unique stations\n",
    "rainfall_stations = rainfall_df.station_name.unique()\n",
    "print(rainfall_stations)"
   ]
  },
  {
   "cell_type": "code",
   "execution_count": 93,
   "metadata": {},
   "outputs": [
    {
     "name": "stdout",
     "output_type": "stream",
     "text": [
      "['BATTICALOA' 'COLOMBO' 'GALLE' 'JAFFNA' 'KATUGASTOTA' 'KATUNAYAKE'\n",
      " 'KURUNEGALA' 'PUTTALAM' 'RATNAPURA']\n"
     ]
    }
   ],
   "source": [
    "# check unique stations\n",
    "wind_stations = wind_speed_df.station_name.unique()\n",
    "print(wind_stations)"
   ]
  },
  {
   "cell_type": "code",
   "execution_count": 94,
   "metadata": {},
   "outputs": [
    {
     "name": "stdout",
     "output_type": "stream",
     "text": [
      "['BATTICALOA' 'COLOMBO' 'GALLE' 'JAFFNA' 'KATUGASTOTA' 'KATUNAYAKE'\n",
      " 'KURUNEGALA' 'PUTTALAM' 'RATNAPURA']\n"
     ]
    }
   ],
   "source": [
    "t1 = np.intersect1d(humidity_stations, temperature_stations)\n",
    "print(t1)\n"
   ]
  },
  {
   "cell_type": "code",
   "execution_count": 95,
   "metadata": {},
   "outputs": [
    {
     "name": "stdout",
     "output_type": "stream",
     "text": [
      "['BATTICALOA' 'COLOMBO' 'GALLE' 'JAFFNA' 'KATUGASTOTA' 'KATUNAYAKE'\n",
      " 'KURUNEGALA' 'PUTTALAM' 'RATNAPURA']\n"
     ]
    }
   ],
   "source": [
    "\n",
    "t2 = np.intersect1d(rainfall_stations,wind_stations)\n",
    "print(t2)"
   ]
  },
  {
   "cell_type": "code",
   "execution_count": 96,
   "metadata": {},
   "outputs": [
    {
     "name": "stdout",
     "output_type": "stream",
     "text": [
      "['BATTICALOA' 'COLOMBO' 'GALLE' 'JAFFNA' 'KATUGASTOTA' 'KATUNAYAKE'\n",
      " 'KURUNEGALA' 'PUTTALAM' 'RATNAPURA']\n"
     ]
    }
   ],
   "source": [
    "print(np.intersect1d(t1,t2))"
   ]
  },
  {
   "cell_type": "markdown",
   "metadata": {},
   "source": [
    "#### Combining the dataframes into a single dataframe"
   ]
  },
  {
   "cell_type": "code",
   "execution_count": 97,
   "metadata": {},
   "outputs": [
    {
     "data": {
      "text/html": [
       "<div>\n",
       "<style scoped>\n",
       "    .dataframe tbody tr th:only-of-type {\n",
       "        vertical-align: middle;\n",
       "    }\n",
       "\n",
       "    .dataframe tbody tr th {\n",
       "        vertical-align: top;\n",
       "    }\n",
       "\n",
       "    .dataframe thead th {\n",
       "        text-align: right;\n",
       "    }\n",
       "</style>\n",
       "<table border=\"1\" class=\"dataframe\">\n",
       "  <thead>\n",
       "    <tr style=\"text-align: right;\">\n",
       "      <th></th>\n",
       "      <th>station_name</th>\n",
       "      <th>Year</th>\n",
       "      <th>Month</th>\n",
       "      <th>wind_speed_8_30am</th>\n",
       "      <th>wind_speed_17_30pm</th>\n",
       "    </tr>\n",
       "  </thead>\n",
       "  <tbody>\n",
       "    <tr>\n",
       "      <th>0</th>\n",
       "      <td>BATTICALOA</td>\n",
       "      <td>2007</td>\n",
       "      <td>Jan</td>\n",
       "      <td>8.6</td>\n",
       "      <td>10.1</td>\n",
       "    </tr>\n",
       "    <tr>\n",
       "      <th>1</th>\n",
       "      <td>BATTICALOA</td>\n",
       "      <td>2007</td>\n",
       "      <td>Feb</td>\n",
       "      <td>3.7</td>\n",
       "      <td>9.6</td>\n",
       "    </tr>\n",
       "    <tr>\n",
       "      <th>2</th>\n",
       "      <td>BATTICALOA</td>\n",
       "      <td>2007</td>\n",
       "      <td>Mar</td>\n",
       "      <td>1.0</td>\n",
       "      <td>8.1</td>\n",
       "    </tr>\n",
       "    <tr>\n",
       "      <th>3</th>\n",
       "      <td>BATTICALOA</td>\n",
       "      <td>2007</td>\n",
       "      <td>Apr</td>\n",
       "      <td>1.9</td>\n",
       "      <td>5.8</td>\n",
       "    </tr>\n",
       "    <tr>\n",
       "      <th>4</th>\n",
       "      <td>BATTICALOA</td>\n",
       "      <td>2007</td>\n",
       "      <td>May</td>\n",
       "      <td>0.7</td>\n",
       "      <td>5.3</td>\n",
       "    </tr>\n",
       "  </tbody>\n",
       "</table>\n",
       "</div>"
      ],
      "text/plain": [
       "  station_name  Year Month  wind_speed_8_30am  wind_speed_17_30pm\n",
       "0   BATTICALOA  2007   Jan                8.6                10.1\n",
       "1   BATTICALOA  2007   Feb                3.7                 9.6\n",
       "2   BATTICALOA  2007   Mar                1.0                 8.1\n",
       "3   BATTICALOA  2007   Apr                1.9                 5.8\n",
       "4   BATTICALOA  2007   May                0.7                 5.3"
      ]
     },
     "execution_count": 97,
     "metadata": {},
     "output_type": "execute_result"
    }
   ],
   "source": [
    "wind_speed_df.head(5)"
   ]
  },
  {
   "cell_type": "code",
   "execution_count": 98,
   "metadata": {},
   "outputs": [],
   "source": [
    "# joining the rainfall_df, humidity_df, temperature_df and wind_speed_df dataframes using the station_name, year and month columns into one dataframe\n",
    "from pandasql import sqldf\n",
    "join = \"INNER\""
   ]
  },
  {
   "cell_type": "code",
   "execution_count": 99,
   "metadata": {},
   "outputs": [],
   "source": [
    "weather_df = sqldf(f\"SELECT h.Year, h.Month, h.station_name, r.elevation, h.humidity, t.TMPMAX, t.TMPMIN, r.precipitation, w.wind_speed_8_30am, w.wind_speed_17_30pm\\\n",
    "            FROM humidity_df AS h \\\n",
    "             {join} JOIN temperature_df AS t \\\n",
    "             ON t.Year = h.Year AND t.Month = h.Month AND t.station_name = h.station_name\\\n",
    "             {join} JOIN  rainfall_df AS r\\\n",
    "             ON r.Year = h.Year AND r.Month = h.Month AND r.station_name = h.station_name\\\n",
    "             {join} JOIN wind_speed_df AS w\\\n",
    "             ON w.Year = h.Year AND w.Month = h.Month AND w.station_name = h.station_name\")"
   ]
  },
  {
   "cell_type": "code",
   "execution_count": 100,
   "metadata": {},
   "outputs": [],
   "source": [
    "# Replace the station names with the actual names in the weather data like For KATUNAYAKE replace with Gampaha like that\n",
    "replace_values = {\n",
    "    \"KATUNAYAKE\": \"Gampaha\",\n",
    "    \"COLOMBO\": \"Colombo\",\n",
    "    \"GALLE\": \"Galle\",\n",
    "    \"BATTICALOA\": \"Batticaloa\",\n",
    "    \"JAFFNA\": \"Jaffna\",\n",
    "    \"KATUGASTOTA\": \"Kandy\",\n",
    "    \"KURUNEGALA\": \"Kurunegala\",\n",
    "    \"PUTTALAM\": \"Puttalam\",\n",
    "    \"RATNAPURA\": \"Ratnapura\",\n",
    "}\n",
    "weather_df[\"station_name\"] = weather_df[\"station_name\"].replace(replace_values)"
   ]
  },
  {
   "cell_type": "code",
   "execution_count": 101,
   "metadata": {},
   "outputs": [
    {
     "data": {
      "text/plain": [
       "array(['Galle', 'Jaffna', 'Colombo', 'Puttalam', 'Ratnapura',\n",
       "       'Batticaloa', 'Gampaha', 'Kurunegala', 'Kandy'], dtype=object)"
      ]
     },
     "execution_count": 101,
     "metadata": {},
     "output_type": "execute_result"
    }
   ],
   "source": [
    "weather_df.station_name.unique()"
   ]
  },
  {
   "cell_type": "code",
   "execution_count": 102,
   "metadata": {},
   "outputs": [],
   "source": [
    "weather_df.sort_values(by=['Year', 'Month','station_name'], inplace=True)"
   ]
  },
  {
   "cell_type": "code",
   "execution_count": 103,
   "metadata": {},
   "outputs": [],
   "source": [
    "weather_df.to_csv(\"Data/Preprocessed Data/weather_data_final.csv\", index=None)"
   ]
  },
  {
   "cell_type": "code",
   "execution_count": 104,
   "metadata": {},
   "outputs": [],
   "source": [
    "# # Remove null values from the specified column in weather_df\n",
    "# weather_df_cleaned = weather_df.dropna(subset=['precipitation'])\n",
    "\n",
    "# # Remove null values from the specified column in humidity_df\n",
    "# rainfall_df_cleaned = rainfall_df.dropna(subset=['precipitation'])\n",
    "\n",
    "# # check value are equals\n",
    "# if weather_df_cleaned[['station_name','Year','Month','precipitation']].equals(rainfall_df_cleaned[['station_name','Year','Month','precipitation']]):\n",
    "#     print('Dataframes are equal')\n",
    "# else:\n",
    "#     raise ValueError('Dataframes are not equal')"
   ]
  },
  {
   "cell_type": "markdown",
   "metadata": {},
   "source": [
    "### Merge weather data and patient data"
   ]
  },
  {
   "cell_type": "code",
   "execution_count": 105,
   "metadata": {},
   "outputs": [],
   "source": [
    "# merge patient data with weather data\n",
    "final_df = sqldf(\"SELECT w.*, p.patients\\\n",
    "               FROM weather_df AS w\\\n",
    "               INNER JOIN final_patient_df AS p\\\n",
    "               ON w.Year = p.Year AND w.Month = p.Month AND w.station_name = p.station_name\"\n",
    ")"
   ]
  },
  {
   "cell_type": "code",
   "execution_count": 106,
   "metadata": {},
   "outputs": [
    {
     "data": {
      "text/html": [
       "<div>\n",
       "<style scoped>\n",
       "    .dataframe tbody tr th:only-of-type {\n",
       "        vertical-align: middle;\n",
       "    }\n",
       "\n",
       "    .dataframe tbody tr th {\n",
       "        vertical-align: top;\n",
       "    }\n",
       "\n",
       "    .dataframe thead th {\n",
       "        text-align: right;\n",
       "    }\n",
       "</style>\n",
       "<table border=\"1\" class=\"dataframe\">\n",
       "  <thead>\n",
       "    <tr style=\"text-align: right;\">\n",
       "      <th></th>\n",
       "      <th>Year</th>\n",
       "      <th>Month</th>\n",
       "      <th>station_name</th>\n",
       "      <th>elevation</th>\n",
       "      <th>humidity</th>\n",
       "      <th>TMPMAX</th>\n",
       "      <th>TMPMIN</th>\n",
       "      <th>precipitation</th>\n",
       "      <th>wind_speed_8_30am</th>\n",
       "      <th>wind_speed_17_30pm</th>\n",
       "      <th>patients</th>\n",
       "    </tr>\n",
       "  </thead>\n",
       "  <tbody>\n",
       "  </tbody>\n",
       "</table>\n",
       "</div>"
      ],
      "text/plain": [
       "Empty DataFrame\n",
       "Columns: [Year, Month, station_name, elevation, humidity, TMPMAX, TMPMIN, precipitation, wind_speed_8_30am, wind_speed_17_30pm, patients]\n",
       "Index: []"
      ]
     },
     "execution_count": 106,
     "metadata": {},
     "output_type": "execute_result"
    }
   ],
   "source": [
    "final_df[final_df.duplicated(['Year', 'Month', 'station_name'])]"
   ]
  },
  {
   "cell_type": "code",
   "execution_count": 107,
   "metadata": {},
   "outputs": [],
   "source": [
    "# convert Year and Month columns into single timestamp column \n",
    "# turn months into numbers\n",
    "final_df['Month'] = final_df['Month'].apply(lambda x: list(calendar.month_abbr).index(x))\n",
    "final_df['Date'] = pd.to_datetime(final_df[['Year', 'Month']].assign(day=1))"
   ]
  },
  {
   "cell_type": "code",
   "execution_count": 108,
   "metadata": {},
   "outputs": [],
   "source": [
    "final_df.to_csv(\"Data/Preprocessed Data/final_data.csv\", index=None)"
   ]
  },
  {
   "cell_type": "markdown",
   "metadata": {},
   "source": [
    "## Feature engineering"
   ]
  },
  {
   "cell_type": "code",
   "execution_count": 109,
   "metadata": {},
   "outputs": [],
   "source": [
    "# convert date into date64 datatype\n",
    "final_df['Date'] = pd.to_datetime(final_df['Date']).dt.normalize()\n",
    "final_df['patients'] = final_df.patients.astype('int64')"
   ]
  },
  {
   "cell_type": "code",
   "execution_count": 110,
   "metadata": {},
   "outputs": [
    {
     "data": {
      "text/plain": [
       "Year                           int64\n",
       "Month                          int64\n",
       "station_name                  object\n",
       "elevation                      int64\n",
       "humidity                     float64\n",
       "TMPMAX                       float64\n",
       "TMPMIN                       float64\n",
       "precipitation                float64\n",
       "wind_speed_8_30am            float64\n",
       "wind_speed_17_30pm           float64\n",
       "patients                       int64\n",
       "Date                  datetime64[ns]\n",
       "dtype: object"
      ]
     },
     "execution_count": 110,
     "metadata": {},
     "output_type": "execute_result"
    }
   ],
   "source": [
    "final_df.dtypes"
   ]
  },
  {
   "cell_type": "code",
   "execution_count": 111,
   "metadata": {},
   "outputs": [
    {
     "data": {
      "text/plain": [
       "Year                    0\n",
       "Month                   0\n",
       "station_name            0\n",
       "elevation               0\n",
       "humidity               60\n",
       "TMPMAX                 24\n",
       "TMPMIN                 37\n",
       "precipitation           7\n",
       "wind_speed_8_30am     204\n",
       "wind_speed_17_30pm    208\n",
       "patients                0\n",
       "Date                    0\n",
       "dtype: int64"
      ]
     },
     "execution_count": 111,
     "metadata": {},
     "output_type": "execute_result"
    }
   ],
   "source": [
    "final_df.isna().sum() # check null value count for the each feature"
   ]
  },
  {
   "cell_type": "code",
   "execution_count": 112,
   "metadata": {},
   "outputs": [
    {
     "data": {
      "text/plain": [
       "Index(['Year', 'Month', 'station_name', 'elevation', 'humidity', 'TMPMAX',\n",
       "       'TMPMIN', 'precipitation', 'wind_speed_8_30am', 'wind_speed_17_30pm',\n",
       "       'patients', 'Date'],\n",
       "      dtype='object')"
      ]
     },
     "execution_count": 112,
     "metadata": {},
     "output_type": "execute_result"
    }
   ],
   "source": [
    "final_df.columns"
   ]
  },
  {
   "cell_type": "markdown",
   "metadata": {},
   "source": [
    "## Imputations "
   ]
  },
  {
   "cell_type": "markdown",
   "metadata": {},
   "source": [
    "#### KNN imputator"
   ]
  },
  {
   "cell_type": "code",
   "execution_count": 113,
   "metadata": {},
   "outputs": [],
   "source": [
    "from sklearn.impute import KNNImputer\n",
    "import pandas as pd\n",
    "\n",
    "# Initialize the KNNImputer\n",
    "knn_imp = KNNImputer(n_neighbors=5)\n",
    "\n",
    "knn_df = final_df.copy()\n",
    "\n",
    "# Select the columns you want to impute\n",
    "columns_to_impute = ['humidity', 'TMPMAX', 'TMPMIN', 'precipitation', 'wind_speed_8_30am', 'wind_speed_17_30pm']"
   ]
  },
  {
   "cell_type": "code",
   "execution_count": 114,
   "metadata": {},
   "outputs": [],
   "source": [
    "\n",
    "# Perform the imputation on the selected columns\n",
    "imputed_data = knn_imp.fit_transform(knn_df[columns_to_impute])\n",
    "\n",
    "# Convert the imputed data back into a DataFrame\n",
    "imputed_df = pd.DataFrame(imputed_data, columns=columns_to_impute)\n",
    "\n",
    "# Replace the original columns in the DataFrame with the imputed ones\n",
    "knn_df[columns_to_impute] = imputed_df\n"
   ]
  },
  {
   "cell_type": "code",
   "execution_count": 115,
   "metadata": {},
   "outputs": [
    {
     "data": {
      "text/plain": [
       "Year                  0\n",
       "Month                 0\n",
       "station_name          0\n",
       "elevation             0\n",
       "humidity              0\n",
       "TMPMAX                0\n",
       "TMPMIN                0\n",
       "precipitation         0\n",
       "wind_speed_8_30am     0\n",
       "wind_speed_17_30pm    0\n",
       "patients              0\n",
       "Date                  0\n",
       "dtype: int64"
      ]
     },
     "execution_count": 115,
     "metadata": {},
     "output_type": "execute_result"
    }
   ],
   "source": [
    "knn_df.isna().sum()"
   ]
  },
  {
   "cell_type": "code",
   "execution_count": 116,
   "metadata": {},
   "outputs": [],
   "source": [
    "knn_df.dropna()\n",
    "knn_df.drop(columns=['elevation'],inplace=True)"
   ]
  },
  {
   "cell_type": "markdown",
   "metadata": {},
   "source": [
    "#### Create timeseries sequence by sorting according to the date and remove the date afterwards"
   ]
  },
  {
   "cell_type": "code",
   "execution_count": 117,
   "metadata": {},
   "outputs": [],
   "source": [
    "knn_df.sort_values('Date',inplace=True)\n",
    "# knn_df.drop('Date',axis=1,inplace=True)"
   ]
  },
  {
   "cell_type": "code",
   "execution_count": 118,
   "metadata": {},
   "outputs": [
    {
     "data": {
      "text/html": [
       "<div>\n",
       "<style scoped>\n",
       "    .dataframe tbody tr th:only-of-type {\n",
       "        vertical-align: middle;\n",
       "    }\n",
       "\n",
       "    .dataframe tbody tr th {\n",
       "        vertical-align: top;\n",
       "    }\n",
       "\n",
       "    .dataframe thead th {\n",
       "        text-align: right;\n",
       "    }\n",
       "</style>\n",
       "<table border=\"1\" class=\"dataframe\">\n",
       "  <thead>\n",
       "    <tr style=\"text-align: right;\">\n",
       "      <th></th>\n",
       "      <th>Year</th>\n",
       "      <th>Month</th>\n",
       "      <th>station_name</th>\n",
       "      <th>humidity</th>\n",
       "      <th>TMPMAX</th>\n",
       "      <th>TMPMIN</th>\n",
       "      <th>precipitation</th>\n",
       "      <th>wind_speed_8_30am</th>\n",
       "      <th>wind_speed_17_30pm</th>\n",
       "      <th>patients</th>\n",
       "      <th>Date</th>\n",
       "    </tr>\n",
       "  </thead>\n",
       "  <tbody>\n",
       "    <tr>\n",
       "      <th>39</th>\n",
       "      <td>2007</td>\n",
       "      <td>1</td>\n",
       "      <td>Gampaha</td>\n",
       "      <td>85.838710</td>\n",
       "      <td>32.0</td>\n",
       "      <td>22.1</td>\n",
       "      <td>39.399999</td>\n",
       "      <td>12.5</td>\n",
       "      <td>14.50</td>\n",
       "      <td>64</td>\n",
       "      <td>2007-01-01</td>\n",
       "    </tr>\n",
       "    <tr>\n",
       "      <th>36</th>\n",
       "      <td>2007</td>\n",
       "      <td>1</td>\n",
       "      <td>Batticaloa</td>\n",
       "      <td>82.064516</td>\n",
       "      <td>28.4</td>\n",
       "      <td>24.0</td>\n",
       "      <td>170.100004</td>\n",
       "      <td>8.6</td>\n",
       "      <td>10.10</td>\n",
       "      <td>0</td>\n",
       "      <td>2007-01-01</td>\n",
       "    </tr>\n",
       "    <tr>\n",
       "      <th>37</th>\n",
       "      <td>2007</td>\n",
       "      <td>1</td>\n",
       "      <td>Colombo</td>\n",
       "      <td>82.258065</td>\n",
       "      <td>31.8</td>\n",
       "      <td>22.9</td>\n",
       "      <td>91.100001</td>\n",
       "      <td>5.7</td>\n",
       "      <td>6.00</td>\n",
       "      <td>244</td>\n",
       "      <td>2007-01-01</td>\n",
       "    </tr>\n",
       "    <tr>\n",
       "      <th>38</th>\n",
       "      <td>2007</td>\n",
       "      <td>1</td>\n",
       "      <td>Galle</td>\n",
       "      <td>89.612903</td>\n",
       "      <td>29.6</td>\n",
       "      <td>23.3</td>\n",
       "      <td>78.200000</td>\n",
       "      <td>2.2</td>\n",
       "      <td>6.90</td>\n",
       "      <td>22</td>\n",
       "      <td>2007-01-01</td>\n",
       "    </tr>\n",
       "    <tr>\n",
       "      <th>40</th>\n",
       "      <td>2007</td>\n",
       "      <td>1</td>\n",
       "      <td>Jaffna</td>\n",
       "      <td>81.886667</td>\n",
       "      <td>29.7</td>\n",
       "      <td>22.2</td>\n",
       "      <td>12.500000</td>\n",
       "      <td>5.3</td>\n",
       "      <td>7.12</td>\n",
       "      <td>0</td>\n",
       "      <td>2007-01-01</td>\n",
       "    </tr>\n",
       "  </tbody>\n",
       "</table>\n",
       "</div>"
      ],
      "text/plain": [
       "    Year  Month station_name   humidity  TMPMAX  TMPMIN  precipitation  \\\n",
       "39  2007      1      Gampaha  85.838710    32.0    22.1      39.399999   \n",
       "36  2007      1   Batticaloa  82.064516    28.4    24.0     170.100004   \n",
       "37  2007      1      Colombo  82.258065    31.8    22.9      91.100001   \n",
       "38  2007      1        Galle  89.612903    29.6    23.3      78.200000   \n",
       "40  2007      1       Jaffna  81.886667    29.7    22.2      12.500000   \n",
       "\n",
       "    wind_speed_8_30am  wind_speed_17_30pm  patients       Date  \n",
       "39               12.5               14.50        64 2007-01-01  \n",
       "36                8.6               10.10         0 2007-01-01  \n",
       "37                5.7                6.00       244 2007-01-01  \n",
       "38                2.2                6.90        22 2007-01-01  \n",
       "40                5.3                7.12         0 2007-01-01  "
      ]
     },
     "execution_count": 118,
     "metadata": {},
     "output_type": "execute_result"
    }
   ],
   "source": [
    "knn_df.head()"
   ]
  },
  {
   "cell_type": "markdown",
   "metadata": {},
   "source": [
    "### Save the final knn imputed data in a csv"
   ]
  },
  {
   "cell_type": "code",
   "execution_count": 119,
   "metadata": {},
   "outputs": [],
   "source": [
    "knn_df.to_csv(\"Data/Preprocessed Data/preprocessed_data.csv\", index=None)"
   ]
  }
 ],
 "metadata": {
  "kernelspec": {
   "display_name": "Python 3 (ipykernel)",
   "language": "python",
   "name": "python3"
  },
  "language_info": {
   "codemirror_mode": {
    "name": "ipython",
    "version": 3
   },
   "file_extension": ".py",
   "mimetype": "text/x-python",
   "name": "python",
   "nbconvert_exporter": "python",
   "pygments_lexer": "ipython3",
   "version": "3.11.7"
  }
 },
 "nbformat": 4,
 "nbformat_minor": 4
}
